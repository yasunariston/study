{
 "cells": [
  {
   "cell_type": "markdown",
   "metadata": {},
   "source": [
    "# Large scale machine learning"
   ]
  },
  {
   "cell_type": "markdown",
   "metadata": {},
   "source": [
    "## Learning with large datasets"
   ]
  },
  {
   "cell_type": "markdown",
   "metadata": {},
   "source": [
    ">\"It's not who has the best algorithm what wins. <br>It's who has the most data.\"\n",
    "\n",
    "### Learning with large dataset\n",
    "\n",
    "m = 100,000,000<br>\n",
    "$\\theta_j := \\theta_j - \\alpha\\frac{1}{m}\\sum_{i = 1}^m(h_\\theta(x^{(i)}) - y^{(i)})x_j^{(i)}$\n",
    "\n",
    "- m = 1000 is few?"
   ]
  },
  {
   "cell_type": "markdown",
   "metadata": {},
   "source": [
    "## Stochastic Gradient Descent\n"
   ]
  },
  {
   "cell_type": "markdown",
   "metadata": {},
   "source": [
    "### Lenear regression with gradient descent\n",
    "\n",
    "$h_\\theta(x) = \\sum_{j = 0}^n\\theta_jx_j$<br>\n",
    "$J_{train}(\\theta) = \\frac{1}{2m}\\sum_{i=1}^m(h_\\theta(x^{(i)}) - y^{(i)})^2$<br>\n",
    "Repeat{<br>\n",
    "$\\rightarrow\\theta_j = \\theta_j - \\alpha\\frac{1}{m}\\sum_{i = 1}^m(h_\\theta(x^{(i)}) - y^{(i)})x^{(i)}$<br>\n",
    "(for every $j = 0, \\dots, n$)<br>\n",
    "}\n",
    "\n",
    "if m = 300,000,000, take a lot of cost(time)\n",
    "\n",
    "### Barch gradient descent\n",
    "\n",
    "$J_train(\\theta) = \\frac{1}{2m}\\sum_{i=1}^m(h_\\theta(x^{(i)}) - y^{(i)})^2$<br>\n",
    "Repeat{<br>\n",
    "$\\rightarrow\\theta_j = \\theta_j - \\alpha\\frac{1}{m}\\sum_{i=1}^m(h_\\theta(x^{(i)}) - y^{(i)})x^{(i)}$<br>\n",
    "(for every $j = 0, \\dots, n$)<br>\n",
    "}\n",
    "\n",
    "### Stochastic gradient descent\n",
    "\n",
    "$cost(\\theta, (x^{(i)}, y^{(i)})) = \\frac{1}{2}(h_\\theta(x^{(i)}) - y^{(i)})^2$<br>\n",
    "$J_{train}(\\theta) = \\frac{1}{m}\\sum_{i = 1}^mcost(\\theta, (x^{(i)}, y^{(i)}))$\n",
    "\n",
    "1. Randomely shaffle dataset\n",
    "2. Repeat {<br>\n",
    "for $i = 1, \\dots, m${<br>\n",
    "$\\theta_j := \\theta_j - \\alpha(h_\\theta(x^{(i)}) - y^{(i)})x^{(i)}$<br>\n",
    "(for $j = 0, \\dots, n$)<br>\n",
    "}<br>\n",
    "}"
   ]
  },
  {
   "cell_type": "markdown",
   "metadata": {},
   "source": [
    "## Mini-Batch Gradient Descent"
   ]
  },
  {
   "cell_type": "markdown",
   "metadata": {},
   "source": [
    "<u>Batch gradient descent:</u> Use all $m$ examples in each eteration<br>\n",
    "<u>Stochastic gradient descent:</u> Use 1 example in each iteration<br>\n",
    "<u>Mini-batch gradient descent:</u> Use $b$ examples in each iteration<br>\n",
    "$\\rightarrow$mini-batch size. $b =10.\\;(2 - 100)$<br>\n",
    "\n",
    "Get $b = 10$ example $(x^{(i)}, y^{(i)}), \\dots, (x^{(i + 9)}, y^{(i + 9)})$<br>\n",
    "$\\theta_j := \\theta_j - \\alpha\\frac{1}{10}\\sum_{k = 1}^{i + 1}(h_\\theta(x^{(k)}) - y^{(k)})x_j^{(k)}$<br>\n",
    "$i := i + 1$\n",
    "\n",
    "### Mini-batch gradient descent\n",
    "\n",
    "Say $b = 10, m =1000$.<br>\n",
    "Repeat{<br>\n",
    "for $i = 1, 11, 21, 31, \\dots, 991${<br>\n",
    "$\\theta_j := \\theta_j - \\alpha\\frac{1}{10}\\sum_{k = i}^{i + 9}(h_\\theta(x^{(k)}) - y^{(k)})x_j^{(k)}$<br>\n",
    "(for every $j = 0, \\dots, n$)<br>\n",
    "}<br>\n",
    "}"
   ]
  },
  {
   "cell_type": "markdown",
   "metadata": {},
   "source": [
    "## Online Learning"
   ]
  },
  {
   "cell_type": "markdown",
   "metadata": {},
   "source": [
    "### Online learning exmaple\n",
    "Shipping service website where user comes, specific origin and destination, you offer to ship their package for some asking price, and users sometimes choose to use your shipping service(y = 1), sometimes not (y = 0). <br>\n",
    "Features $x$ capture propeties of user, of origin/destination and asking price. We want to learn $p = (y = 1|x;\\theta)$ to optimize price.\n",
    "\n",
    "### Other online learning example\n",
    "Product search (learning to search):<br>\n",
    "    User searchs for \"Android phone 1080p camera\"<br>\n",
    "    Have 100 phones in store. WIll return 10 results.<br>\n",
    "    x = features of phone, how many words in query match descripiton of phone, etc.<br>\n",
    "    $y = 1$ if user clcks on link. $y = 0$ otherwise. <br>\n",
    "    Learn $(y = 1|x;\\theta)$.<br>\n",
    "    Use to show the 10 phones they're most likely to click on.\n",
    "    \n",
    "Other examples: Choosing special offers to show user; customize selection of news articles; product recommendation; ...\n",
    "\n"
   ]
  },
  {
   "cell_type": "markdown",
   "metadata": {},
   "source": [
    "## Map Reduce and Data Parallelism"
   ]
  },
  {
   "cell_type": "markdown",
   "metadata": {},
   "source": [
    "Calculate learining is over machine speck, we need to separate calculate.\n",
    "\n",
    "### Map-reduce\n",
    "m = 400<br>\n",
    "Batch gradient descent: $\\theta_j := \\theta_j - \\alpha\\frac{1}{400}\\sum_{i = 1}^{400}(h_\\theta(x^{(i)}) - y^{(i)})x_j^{(i)}$\n",
    "\n",
    "- Machine 1: Use $(x^{(1)}, y^{(1)}), \\dots, (x^{(100)}, y^{(100)})$.<br>\n",
    "$temp^{(1)}_j = \\sum_{i=1}^{100}(h_\\theta(x^{(i)}) - y^{(i)})x_j^{(i)}$\n",
    "- Machine 2: Use $(x^{(101)}, y^{(101)}), \\dots, (x^{(200)}, y^{(200)})$.<br>\n",
    "$temp^{(2)}_j = \\sum_{i=101}^{200}(h_\\theta(x^{(i)}) - y^{(i)})x_j^{(i)}$\n",
    "- Machine 3: Use $(x^{(201)}, y^{(201)}), \\dots, (x^{(300)}, y^{(300)})$.<br>\n",
    "$temp^{(3)}_j = \\sum_{i=201}^{300}(h_\\theta(x^{(i)}) - y^{(i)})x_j^{(i)}$\n",
    "- Machine 4: Use $(x^{(301)}, y^{(301)}), \\dots, (x^{(400)}, y^{(400)})$.<br>\n",
    "$temp^{(4)}_j = \\sum_{i=301}^{400}(h_\\theta(x^{(i)}) - y^{(i)})x_j^{(i)}$\n",
    "\n",
    "<b>Combine:</b><br>\n",
    "$\\theta_j := \\theta_j - \\alpha\\frac{1}{400}(temp_j^{(1)} + temp_j^{(2)} + temp_j^{(3)} + temp_j^{(4)})$<br>\n",
    "($j = 0, \\dots, n$)\n",
    "\n",
    "### Map-reduce and summation over the training set\n",
    "\n",
    "Many algorithm can be expresed as cimputing sums of functions over training set.\n",
    "\n",
    "E.g. for advanced optimization, with logistic regression, need:<br>\n",
    "$J_{train}(\\theta) = -\\frac{1}{m}\\sum_{i = 1}^my^{(i)}logh_\\theta(x^{(i)}) - (1 - y^{(i)})log(1 - h_\\theta(x^{(i)}))$<br>\n",
    "$\\frac{\\partial}{\\partial\\theta_j}J_{train}(\\theta) = \\frac{1}{m}\\sum_{i = 1}^m(h_\\theta(x^{(i)}) - y^{(i)})x_j^{(i)}$"
   ]
  },
  {
   "cell_type": "markdown",
   "metadata": {},
   "source": [
    "## Test\n",
    "\n",
    "<b><u>Question1</u></b><br>\n",
    "Suppose you are training a logistic regression classifier using stochastic gradient descent. You find that the cost $(say, cost(\\theta,(x^{(i)}, y^{(i)}))$, averaged over the last 500 examples), plotted as a function of the number of iterations, is slowly increasing over time. Which of the following changes are likely to help?\n",
    "- This is not an issue, as we expect this to occur with stochastic gradient descent.\n",
    "- Try averaging the cost over a larger number of examples (say 1000 examples instead of 500) in the plot.\n",
    "- Try using a larger learning rate $\\alpha$.\n",
    "- Try using a smaller learning rate $\\alpha$.\n",
    "\n",
    "<b><u>Question2</u></b><br>\n",
    "Which of the following statements about stochastic gradient\n",
    "\n",
    "descent are true? Check all that apply.\n",
    "- Suppose you are using stochastic gradient descent to train a linear regression classifier. The cost function $J(\\theta) = \\frac{1}{2m} \\sum_{i=1}^m (h_\\theta(x^{(i)}) - y^{(i)})^2$\n",
    "  is guaranteed to decrease after every iteration of the stochastic gradient descent algorithm.\n",
    "- You can use the method of numerical gradient checking to verify that your stochastic gradient descent implementation is bug-free. (One step of stochastic gradient descent computes the partial derivative $\\frac{\\partial}{\\partial \\theta_j} cost(\\theta, (x^{(i)}, y^{(i)}))$\n",
    "- Before running stochastic gradient descent, you should randomly shuffle (reorder) the training set.\n",
    "- In order to make sure stochastic gradient descent is converging, we typically compute $J_{\\rm train}(\\theta)$after each iteration (and plot it) in order to make sure that the cost function is generally decreasing.\n",
    "\n",
    "<b><u>Question3</u></b><br>\n",
    "Which of the following statements about online learning are true? Check all that apply.\n",
    "- In the approach to online learning discussed in the lecture video, we repeatedly get a single training example, take one step of stochastic gradient descent using that example, and then move on to the next example.\n",
    "- When using online learning, in each step we get a new example $(x,y)$, perform one step of (essentially stochastic gradient descent) learning on that example, and then discard that example and move on to the next.\n",
    "- One of the advantages of online learning is that there is no need to pick a learning rate $\\alpha$.\n",
    "- One of the disadvantages of online learning is that it requires a large amount of computer memory/disk space to store all the training examples we have seen.\n",
    "\n",
    "<b><u>Question4</u></b><br>\n",
    "Assuming that you have a very large training set, which of the　following algorithms do you think can be parallelized using　map-reduce and splitting the training set across different　machines? Check all that apply.\n",
    "- Linear regression trained using stochastic gradient descent.\n",
    "- Logistic regression trained using stochastic gradient descent.\n",
    "- Logistic regression trained using batch gradient descent.\n",
    "- Computing the average of all the features in your training set $\\mu = \\frac{1}{m} \\sum_{i=1}^m x^{(i)}$<br>\n",
    " (say in order to perform mean normalization).\n",
    "\n",
    "<b><u>Question5</u></b><br>\n",
    "Which of the following statements about map-reduce are true? Check all that apply.\n",
    "- When using map-reduce with gradient descent, we usually use a single machine that accumulates the gradients from each of the map-reduce machines, in order to compute the parameter update for that iteration.\n",
    "- Because of network latency and other overhead associated with map-reduce, if we run map-reduce using NN computers, we might get less than an NN-fold speedup compared to using 1 computer.\n",
    "- If you have only 1 computer with 1 computing core, then map-reduce is unlikely to help.\n",
    "- Linear regression and logistic regression can be parallelized using map-reduce, but not neural network training."
   ]
  },
  {
   "cell_type": "code",
   "execution_count": null,
   "metadata": {},
   "outputs": [],
   "source": []
  }
 ],
 "metadata": {
  "kernelspec": {
   "display_name": "Python 3",
   "language": "python",
   "name": "python3"
  },
  "language_info": {
   "codemirror_mode": {
    "name": "ipython",
    "version": 3
   },
   "file_extension": ".py",
   "mimetype": "text/x-python",
   "name": "python",
   "nbconvert_exporter": "python",
   "pygments_lexer": "ipython3",
   "version": "3.6.7"
  }
 },
 "nbformat": 4,
 "nbformat_minor": 2
}
