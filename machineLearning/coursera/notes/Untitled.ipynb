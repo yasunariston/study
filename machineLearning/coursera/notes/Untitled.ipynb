{
 "cells": [
  {
   "cell_type": "markdown",
   "metadata": {},
   "source": [
    "# Application example: Photo OCR"
   ]
  },
  {
   "cell_type": "markdown",
   "metadata": {},
   "source": [
    "## Problem Description and Pipeline"
   ]
  },
  {
   "cell_type": "markdown",
   "metadata": {},
   "source": [
    "### The Photo OCR problem\n",
    "Photo OCR: Photo Optical Character Recognition\n",
    "\n",
    "### Photo OCR pipline\n",
    "\n",
    "1. Text detection\n",
    "2. Character segmentation\n",
    "3. Character classification\n",
    "\n",
    "### Photot OCR pipeline\n",
    "image<br>\n",
    "$\\rightarrow$Text detection: 1-5(engineer)<br>\n",
    "$\\rightarrow$Character segmentation: 1-5<br>\n",
    "$\\rightarrow$Character recognition: 1-5<br>"
   ]
  },
  {
   "cell_type": "markdown",
   "metadata": {},
   "source": [
    "## Sliding Windows"
   ]
  },
  {
   "cell_type": "markdown",
   "metadata": {},
   "source": [
    "### Text detection\n",
    "\n"
   ]
  },
  {
   "cell_type": "markdown",
   "metadata": {},
   "source": [
    "### Discussion on getting more data\n",
    "1. Make sure you have a alow bias classfier before expending the effort.(Plot learning curves.).E.g. keep incresing the number of features/number of hidden units in neural network until you have a low bias classfier.\n",
    "2. \"How much work would it be to get 10x as much as we currently have?\"\n",
    "    - Artifical data synthesis\n",
    "    - Collect/label it yourself\n",
    "    - \"Crowd source\"(E.g.Amazon Machenical Turk)"
   ]
  },
  {
   "cell_type": "markdown",
   "metadata": {},
   "source": [
    "## Ceiling Analysis: What Part of the Pipeline to Work on Next\n"
   ]
  },
  {
   "cell_type": "markdown",
   "metadata": {},
   "source": [
    "### Estimating the errors due to each componet(ceiling analysis)\n",
    "\n",
    "image<br>\n",
    "$\\rightarrow$Text detection: 1-5(engineer)<br>\n",
    "$\\rightarrow$Character segmentation: 1-5<br>\n",
    "$\\rightarrow$Character recognition: 1-5<br>\n",
    "\n",
    "What part of the pipeline should you spend most time trying to improve?\n",
    "\n",
    "|Component|Accuracy|\n",
    "|:--------------:|:-------------:|\n",
    "|Overall system|72%|\n",
    "|$\\downarrow$|$\\rightarrow17\\%$|\n",
    "|Text detection|89%|\n",
    "|$\\downarrow$|$\\rightarrow1\\%$|\n",
    "|Character segmentation|90%|\n",
    "|$\\downarrow$|$\\rightarrow10\\%$|\n",
    "|Character recognition|100%|\n",
    "\n",
    "set perfect data instead of original\n",
    "\n",
    "\n",
    "### Another ceiling analysis example\n",
    "Face recognition from images (Artifical example)\n"
   ]
  },
  {
   "cell_type": "markdown",
   "metadata": {},
   "source": [
    "## Test\n",
    "\n",
    "<b><u>Question1</u></b><br>\n",
    "Suppose you are running a sliding window detector to find text in images. Your input images are 1000x1000 pixels. You will run your sliding windows detector at two scales, 10x10 and 20x20 (i.e., you will run your classifier on lots of 10x10 patches to decide if they contain text or not; and also on lots of 20x20 patches), and you will \"step\" your detector by 2 pixels each time. About how many times will you end up running your classifier on a single 1000x1000 test set image?\n",
    "- 1,000,000\n",
    "- 250,000\n",
    "- 500,000\n",
    "- 100,000\n",
    "\n",
    "<b><u>Question2</u></b><br>\n",
    "Suppose that you just joined a product team that has been developing a machine learning application, using m = 1,000m=1,000 training examples. You discover that you have the option of hiring additional personnel to help collect and label data. You estimate that you would have to pay each of the labellers \\$10 per hour, and that each labeller can label 4 examples per minute. About how much will it cost to hire labellers to label 10,000 new training examples?\n",
    "- \\$10,000\n",
    "- \\$250\n",
    "- \\$600\n",
    "- \\$400\n",
    "\n",
    "<b><u>Question3</u></b><br>\n",
    "What are the benefits of performing a ceiling analysis? Check all that apply.\n",
    "- It can help indicate that certain components of a system might not be worth a significant amount of work improving, because even if it had perfect performance its impact on the overall system may be small.\n",
    "- It helps us decide on allocation of resources in terms of which component in a machine learning pipeline to spend more effort on.\n",
    "- If we have a low-performing component, the ceiling analysis can tell us if that component has a high bias problem or a high variance problem.\n",
    "- It is a way of providing additional training data to the algorithm.\n",
    "\n",
    "<b><u>Question4</u></b><br>\n",
    "Suppose you are building an object classifier, that takes as input an image, and recognizes that image as either containing a car ($y=1$) or not ($y=0$). For example, here are a positive example and a negative example:\n",
    "\n",
    "[car's image]($y = 1$)<br>\n",
    "[not car's image]($y = 0$)\n",
    "\n",
    "After carefully analyzing the performance of your algorithm, you conclude that you need more positive ($y=1$) training examples. Which of the following might be a good way to get additional positive examples?\n",
    "- Apply translations, distortions, and rotations to the images already in your training set.\n",
    "- Select two car images and average them to make a third example.\n",
    "- Take a few images from your training set, and add random, gaussian noise to every pixel.\n",
    "- Make two copies of each image in the training set; this immediately doubles your training set size.\n",
    "\n",
    "<b><u>Question5</u></b><br>\n",
    "Suppose you have a PhotoOCR system, where you have the following pipeline:\n",
    "\n",
    "Image$\\rightarrow$Text detection$\\rightarrow$Character segmentatoin$\\rightarrow$Character recognition\n",
    "\n",
    "You have decided to perform a ceiling analysis on this system, and find the following:\n",
    "\n",
    "|Component|Accuracy|\n",
    "|:--------------:|:-------------:|\n",
    "|Overall system|70%|\n",
    "|Text detection|72%|\n",
    "|Character segmentation|82%|\n",
    "|Character recognition|100%|\n",
    "\n",
    "Which of the following statements are true?\n",
    "- The potential benefit to having a significantly improved text detection system is small, and thus it may not be worth significant effort trying to improve it.\n",
    "- If we conclude that the character recognition's errors are mostly due to the character recognition system having high variance, then it may be worth significant effort obtaining additional training data for character recognition.\n",
    "- We should dedicate significant effort to collecting additional training data for the text detection system.\n",
    "- The most promising component to work on is the text detection system, since it has the lowest performance (72%) and thus the biggest potential gain."
   ]
  },
  {
   "cell_type": "markdown",
   "metadata": {},
   "source": [
    "## Summary and Thank You"
   ]
  },
  {
   "cell_type": "markdown",
   "metadata": {},
   "source": [
    "### Summary: Main topics\n",
    "\n",
    "Supervised Learning\n",
    "- Linear regression, logistic regression, neural networks, SVMs\n",
    "\n",
    "Supervised Learning\n",
    "- K-means, PCA, Anomary detection\n",
    "\n",
    "Special applications/special topics\n",
    "- Recommender systems, large scale machine learning.\n",
    "\n",
    "Advice on building a machine learning system\n",
    "- Bias/variance, regularization; deciding what to work on next; evaluation of learning algorithms, learning curves, error analysis, ceiling analysis."
   ]
  },
  {
   "cell_type": "markdown",
   "metadata": {},
   "source": []
  }
 ],
 "metadata": {
  "kernelspec": {
   "display_name": "Python 3",
   "language": "python",
   "name": "python3"
  },
  "language_info": {
   "codemirror_mode": {
    "name": "ipython",
    "version": 3
   },
   "file_extension": ".py",
   "mimetype": "text/x-python",
   "name": "python",
   "nbconvert_exporter": "python",
   "pygments_lexer": "ipython3",
   "version": "3.6.7"
  }
 },
 "nbformat": 4,
 "nbformat_minor": 2
}
