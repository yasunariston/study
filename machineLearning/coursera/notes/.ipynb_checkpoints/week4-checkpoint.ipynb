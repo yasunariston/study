{
 "cells": [
  {
   "cell_type": "markdown",
   "metadata": {},
   "source": [
    "## None-linear Hypotheses"
   ]
  },
  {
   "cell_type": "markdown",
   "metadata": {},
   "source": [
    "## Neurons and the Brain"
   ]
  },
  {
   "cell_type": "markdown",
   "metadata": {},
   "source": [
    "Origins: Algorithms that try to mimic the brain.<br>\n",
    "Was very widely used in 80s and early 90s: popularity diminished in late 90s.<br>\n",
    "REcent resurgence: State-of-the-art technique for many appications"
   ]
  },
  {
   "cell_type": "markdown",
   "metadata": {},
   "source": [
    "## Model Representation I "
   ]
  },
  {
   "cell_type": "markdown",
   "metadata": {},
   "source": [
    "### Neuron Model: Logistic unit\n",
    "\n",
    "$\n",
    "x = \\begin{bmatrix}\n",
    "x_0 \\\\ x_1 \\\\ x_2 \\\\ x_3\n",
    "\\end{bmatrix}\n",
    "\\theta = \\begin{bmatrix}\n",
    "\\theta_0 \\\\ \\theta_1 \\\\ \\theta_2 \\\\ \\theta_3\n",
    "\\end{bmatrix}\n",
    "$\n",
    "\n",
    "Sigmoid(logistic): activation function"
   ]
  },
  {
   "cell_type": "code",
   "execution_count": null,
   "metadata": {},
   "outputs": [],
   "source": []
  }
 ],
 "metadata": {
  "kernelspec": {
   "display_name": "Python 3",
   "language": "python",
   "name": "python3"
  },
  "language_info": {
   "codemirror_mode": {
    "name": "ipython",
    "version": 3
   },
   "file_extension": ".py",
   "mimetype": "text/x-python",
   "name": "python",
   "nbconvert_exporter": "python",
   "pygments_lexer": "ipython3",
   "version": "3.6.5"
  }
 },
 "nbformat": 4,
 "nbformat_minor": 2
}
