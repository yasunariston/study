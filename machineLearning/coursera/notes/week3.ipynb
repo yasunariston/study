{
 "cells": [
  {
   "cell_type": "markdown",
   "metadata": {},
   "source": [
    "## Classification"
   ]
  },
  {
   "cell_type": "markdown",
   "metadata": {},
   "source": [
    "### binary classification\n",
    "\n",
    "- Email: Spam / Not Spam\n",
    "- Online Transactions: Fraudulent(Yes / No)?\n",
    "- Tumor: Malignant / Benign"
   ]
  },
  {
   "cell_type": "markdown",
   "metadata": {},
   "source": [
    "$ y \\in \\{0, 1\\}$ "
   ]
  },
  {
   "cell_type": "markdown",
   "metadata": {},
   "source": [
    "0: \"Negative Class\" (e.g., beginer tumor)<br>\n",
    "1: \"Positive Class\" (e.g, malignant tumor)\n",
    "\n",
    "<u>classification problem is just like regression problem, except that the values we now want to predict take on only a small number of discrete values,</u>"
   ]
  },
  {
   "cell_type": "markdown",
   "metadata": {},
   "source": [
    "## Hypothesis Representation"
   ]
  },
  {
   "cell_type": "markdown",
   "metadata": {},
   "source": [
    "### Logistic Regression Model\n",
    "\n",
    "Want $0 \\leq h_\\theta \\leq 1$<br>\n",
    "\n",
    "- $h_\\theta(x) \\geq 0.5 \\rightarrow y = 1$\n",
    "- $h_\\theta(x) < 0.5 \\rightarrow y = 0$\n",
    "\n",
    "$h_\\theta(x) = g(\\theta^Tx)$\n",
    "\n",
    "$g(z) = \\frac{1}{1 + e^{-z}}$<br>\n",
    "$\\rightarrow$ <b>\"Logistic function\"</b> (Sigmoid function)"
   ]
  },
  {
   "cell_type": "code",
   "execution_count": 2,
   "metadata": {},
   "outputs": [
    {
     "data": {
      "text/plain": [
       "[<matplotlib.lines.Line2D at 0x10bb046a0>]"
      ]
     },
     "execution_count": 2,
     "metadata": {},
     "output_type": "execute_result"
    },
    {
     "data": {
      "image/png": "[encoded data removed]",
      "text/plain": [
       "<Figure size 432x288 with 1 Axes>"
      ]
     },
     "metadata": {},
     "output_type": "display_data"
    }
   ],
   "source": [
    "# %matplotlib inline\n",
    "import matplotlib.pyplot as plt\n",
    "import numpy as np\n",
    "z = np.linspace(-8, 8, 300)\n",
    "y = 1 / (1 + np.exp(-z))\n",
    "plt.ylim([-0, 1])\n",
    "plt.gca().set_aspect('equal', adjustable='box')\n",
    "plt.plot(z, y)"
   ]
  },
  {
   "cell_type": "markdown",
   "metadata": {},
   "source": [
    "### Interpretation of Hypothesis Output"
   ]
  },
  {
   "cell_type": "markdown",
   "metadata": {},
   "source": [
    "$h_\\theta(x)$ = estimated probablity that y = 1 on input x\n",
    "\n",
    "example:  Tumor: Malignant(1) / Benign(0)<br>\n",
    "$x_\\theta(x) = 0.7$<br>\n",
    "$\\rightarrow$ Tell pationt that 70% chance of tumor being malignant\n",
    "\n",
    "$h_\\theta(x) = P(y = 1 | x; \\theta)$<br>\n",
    "$\\rightarrow$ \"probablity that y = 1, given x, parameterized by $\\theta$\""
   ]
  },
  {
   "cell_type": "markdown",
   "metadata": {},
   "source": [
    "## Decision Boundry"
   ]
  },
  {
   "cell_type": "markdown",
   "metadata": {},
   "source": [
    "### Logistic regression\n",
    "\n",
    "$h_\\theta(x) = g(\\theta^Tx)$<br>\n",
    "$g(z) = \\frac{1}{1 + e^{-z}}$\n",
    "\n",
    "Suppose:\n",
    "predict \"y = 1\" if $h_\\theta(x) \\geq 0.5$<br>\n",
    "$\\rightarrow \\theta^Tx \\geq 0$<br>\n",
    "predict \"y = 0\" if $h_\\theta(x) < 0.5$<br>\n",
    "$\\rightarrow \\theta^Tx < 0$<br>\n",
    "<u>reference logistic model graph</u>\n",
    "\n",
    "for example\n",
    "$h_\\theta(x) = g(\\theta_0 + \\theta_1x_1 + \\theta_2x_2)$<br>\n",
    "$\\theta = \\begin{bmatrix}\n",
    "5\\\\-1\\\\0\n",
    "\\end{bmatrix}\n",
    "$\n",
    "\n",
    "predict: $\"y = 1\" if 5 + (-1)x_1 + 0x_2 \\geq 0$<br>\n",
    "$\\rightarrow 5 - x_1 \\geq 0$<br>\n",
    "$\\rightarrow x_1 \\leq 5$"
   ]
  },
  {
   "cell_type": "markdown",
   "metadata": {},
   "source": [
    "### Non-linear decision boundaries\n",
    "\n",
    "$h_\\theta(x) = g(\\theta_0 + \\theta_1x_1 +\\theta_2x_2 + \\theta_3x_1^2 + \\theta_4x_2^2)$\n",
    "\n",
    "$\\theta = \n",
    "\\begin{bmatrix}\n",
    "-1\\\\0\\\\0\\\\1\\\\1\n",
    "\\end{bmatrix}$\n",
    "\n",
    "predict: \"y = 1\" if $-1 + x_1^2 + x_2^2 \\geq 0$<br>\n",
    "$\\rightarrow x_1^2 + x_2^2 \\geq 1$"
   ]
  },
  {
   "cell_type": "markdown",
   "metadata": {},
   "source": [
    "<hr>\n",
    "## Cost Function"
   ]
  },
  {
   "cell_type": "markdown",
   "metadata": {},
   "source": [
    "### Logistic regression cost function\n",
    "\n",
    "$Cost(h_\\theta(x), y) = \\begin{array}\n",
    "-log(h_\\theta(x)) & if \\, y = 1\\\\\n",
    "-log(1-h_\\theta(x)) & if \\, y = 0\n",
    "\\end{array}$"
   ]
  },
  {
   "cell_type": "code",
   "execution_count": 2,
   "metadata": {},
   "outputs": [
    {
     "name": "stderr",
     "output_type": "stream",
     "text": [
      "/Users/kawabatayuma/anaconda3/lib/python3.6/site-packages/ipykernel_launcher.py:10: RuntimeWarning: divide by zero encountered in log\n",
      "  # Remove the CWD from sys.path while we load stuff.\n"
     ]
    },
    {
     "data": {
      "image/png": "[encoded data removed]",
      "text/plain": [
       "<Figure size 432x288 with 1 Axes>"
      ]
     },
     "metadata": {},
     "output_type": "display_data"
    }
   ],
   "source": [
    "x = np.linspace(0.01, 1, 300)\n",
    "y = -np.log(x)\n",
    "plt.xlim([0, 1])\n",
    "plt.ylim([0, 3])\n",
    "plt.xlabel(\"$h(x)$\")\n",
    "plt.ylabel(\"cost\")\n",
    "\n",
    "plt.plot(x, y, label=\"-log(h(x))\")\n",
    "\n",
    "y = -np.log(1 - x)\n",
    "plt.plot(x, y, label=\"-log(1 - h(x))\")\n",
    "plt.show()"
   ]
  },
  {
   "cell_type": "markdown",
   "metadata": {},
   "source": [
    "## Simplified Cost Function and Gradient Descent"
   ]
  },
  {
   "cell_type": "markdown",
   "metadata": {},
   "source": [
    "### Simplified Cost Function\n",
    "\n",
    "$\\begin{align}\n",
    "J(\\theta) &= \\frac{1}{m}\\sum_{i=1}^m{Cost(h_\\theta(x^{(i)}), y^{(i)})}\\\\\n",
    "&= -\\frac{1}{m}\\sum_{i=1}^m[y^{(i)}logh_\\theta(x^{(i)}) + (1 - y^{(i)})log(1 - h_\\theta(x^{(i)}))]\n",
    "\\end{align}\n",
    "$\n",
    "\n",
    "To fit paraneter $\\theta$:<br>\n",
    "$min_\\theta J(\\theta)$\n",
    "\n",
    "To make prediction given new x:<br>\n",
    "Output $h_\\theta(x) = \\frac{1}{1+e^{-\\theta^{-T}x}}$\n",
    "\n",
    "<b><u>Using this $J(\\theta)$ instead of $(h_\\theta(x) - y)^2$, <br>\n",
    "we always found minimam value</u></b>"
   ]
  },
  {
   "cell_type": "markdown",
   "metadata": {},
   "source": [
    "### gradient Descent\n",
    "\n",
    "$\n",
    "Repeat\\{\\\\\n",
    "\\theta_j := \\theta_j - \\alpha\\frac{\\partial}{\\partial\\theta_j}J(\\theta)\\\\\n",
    "\\}\n",
    "$\n",
    "\n",
    "$\n",
    "Repeat\\{\\\\\n",
    "  \\theta_j := \\theta_j - \\frac{\\alpha}{m}\\sum^m_{i=1}(h_\\theta(x^{(i)}) - y^{(i)})x^{(i)}_j\\\\\n",
    "\\}\n",
    "$\n",
    "\n",
    "A vectorized implementation is:<br>\n",
    "$\\theta := \\theta - \\frac{\\alpha}{m}X^T(g(X\\theta) - \\vec{y})$"
   ]
  },
  {
   "cell_type": "markdown",
   "metadata": {},
   "source": [
    "## Advanced Optimization"
   ]
  },
  {
   "cell_type": "markdown",
   "metadata": {},
   "source": [
    "### Optimization algorithm\n",
    "\n",
    "Given $\\theta$, we have code that can compute\n",
    "- $J(\\theta)$\n",
    "- $\\frac{\\partial}{\\partial\\theta_j}J(\\theta)$ (for j = 0, 1, ....., n)\n",
    "\n",
    "Optimization algorithms:\n",
    "- Gradient Descent\n",
    "- Conjugate gradient　★\n",
    "- BFGS　★\n",
    "- L-BFGS　★\n",
    "\n",
    "★ Advantages:\n",
    "- No need to manually pick $\\alpha$\n",
    "- Often faster than gradient descent\n",
    "\n",
    "★ Disadvantages\n",
    "- More Complex\n",
    "\n",
    "To use above sophiscated optimizer, we first need to provide a finction that the following two functions for a given $\\theta$\n",
    "- $J(\\theta)$\n",
    "- $\\frac{\\partial}{\\partial\\theta_j}J(\\theta)$\n",
    "\n",
    "We can write a single function that returns both of these(Octave):\n",
    "```\n",
    "function [jVal, gradient] = costFunction(theta)\n",
    "  jVal = [...code to compute J(theta)...];\n",
    "  gradient = [...code to compute derivative of J(theta)...];\n",
    "end\n",
    "```\n",
    "\n",
    "Then, we can use octave's \"fminunc()\" optimization algorithm alog with the \"optimset()\" function that creates an object containing the options we want to send to \"fminunc()\".\n",
    "```\n",
    "options = optimset('GradObj', 'on', 'MaxIter', 100);\n",
    "initialTheta = zeros(2,1);\n",
    "   [optTheta, functionVal, exitFlag] = fminunc(@costFunction, initialTheta, options);\n",
    "```\n",
    "\n",
    "We give to the function \"fminunc()\" our cost function, our initial vector of theta values, and the \"options\" object that we created beforehand.\n"
   ]
  },
  {
   "cell_type": "markdown",
   "metadata": {},
   "source": [
    "## Multiclass Classification: One-vs-all"
   ]
  },
  {
   "cell_type": "markdown",
   "metadata": {},
   "source": [
    "### Multiclass classification\n",
    "\n",
    "- Email foldering/tagging: Work(y=1), Friends(y=2), Family(y=3), Hobby(y=4)\n",
    "- Medical diagrams: Not ill(y=1), Cold(y=2), Flu(y=3)\n",
    "- Weather: Sunny(y=1), Cloudy(y=2), Rain(y=3), Snow(y=4)<br>\n",
    "ext.."
   ]
  },
  {
   "cell_type": "markdown",
   "metadata": {},
   "source": [
    "### One-vs-all (one-vs-rest)"
   ]
  },
  {
   "cell_type": "markdown",
   "metadata": {},
   "source": [
    "Train a logistic regression classifier $h^{(i)}_\\theta(x)$ for each class $i$ to predict the probability that $y = i$.\n",
    "\n",
    "On a new input $x$, to make a prediction, pick the class $i$ that maximizes<br>\n",
    "$\\rightarrow\\max_ih^{(i)}_\\theta(x)$"
   ]
  },
  {
   "cell_type": "markdown",
   "metadata": {},
   "source": [
    "<hr>\n",
    "## The problem of Overfitting"
   ]
  },
  {
   "cell_type": "markdown",
   "metadata": {},
   "source": [
    "### Overfitting:\n",
    "if we have too many features, the learned hypothesis may fit the training set very well ($J(\\theta) = \\frac{1}{2m}\\sum^m_{i=1}(h_\\theta(x^{(i)}) - y^{(i)})^2 \\simeq 0$), but fail to generalize to new example (predict prices on new example)."
   ]
  },
  {
   "cell_type": "markdown",
   "metadata": {},
   "source": [
    "### Addressing overfitting\n",
    "\n",
    "Options*\n",
    "1. Reduce number of features\n",
    "    - Manually select which features to keep\n",
    "    - Model selection algorithm\n",
    "2. Regularization\n",
    "    - Keep all the features, but reduce magnitude/value of parameter $\\theta_j$ \n",
    "    - Works well when we have a lot of features, each of which contribute a bit to predicting $y$."
   ]
  },
  {
   "cell_type": "markdown",
   "metadata": {},
   "source": [
    "## Cost function"
   ]
  },
  {
   "cell_type": "markdown",
   "metadata": {},
   "source": [
    "### Regularization\n",
    "\n",
    "Small values for parameters $\\theta_0, \\theta_1, ......, \\theta_n$\n",
    "- \"Simplert\" hypothesis\n",
    "- Less prone to overfitting\n",
    "\n",
    "$J(\\theta) = \\frac{1}{2m}[\\sum^m_{i=1}(h_\\theta(x^{(i)}) - y^{(i)})^2 + \\lambda\\sum^{\\mu}_{i=1}\\theta^2_j]$\n",
    "\n",
    "if $\\lambda$ is set to an exaremely large<br>\n",
    "$\\rightarrow$ underfitting"
   ]
  },
  {
   "cell_type": "markdown",
   "metadata": {},
   "source": [
    "## regularized Linear Regression"
   ]
  },
  {
   "cell_type": "markdown",
   "metadata": {},
   "source": [
    "### Gradient Descent\n",
    "\n",
    "$J(\\theta) = \\frac{1}{2m}[\\sum^m_{i=1}(h_\\theta(x^{(i)}) - y^{(i)})^2 + \\lambda\\sum^{\\mu}_{i=1}\\theta^2_j]$\n",
    "\n",
    "Repeat{<br>\n",
    "$\n",
    "\\theta_0 := \\theta_0 - \\alpha\\frac{1}{m}\\sum^m_{i=1}(h_\\theta(x^{(i)} - y^{(i)}))x^{(i)}_0\\\\\n",
    "\\theta_j := \\theta_j - \\alpha\\frac{1}{m}\\sum^m_{i=1}(h_\\theta(x^{(i)} - y^{(i)}))x^{(i)}_j + \\frac{\\lambda}{m}\\theta_j\\\\\n",
    "\\rightarrow\\theta_j := \\theta_j(1 - \\alpha\\frac{\\lambda}{m}) - \\alpha\\frac{1}{m}\\sum^m_{i=1}(h_\\theta(x^{(i)}) - y^{(i)})x^{(i)}_j\n",
    "$<br>\n",
    "(j = 1, 2, 3, ......,n)<br>\n",
    "}\n",
    "\n",
    "$(1 - \\alpha\\frac{\\lambda}{m})$ < 1<br>\n",
    "but this value is nearly 1 (like 0.99)<br>\n",
    "~ All thing we must do is , parameter $\\theta$ decrease small."
   ]
  },
  {
   "cell_type": "markdown",
   "metadata": {},
   "source": [
    "### Normal equation\n",
    "\n",
    "$X = \\begin{bmatrix}\n",
    "(x^{(1)})^T\\\\...\\\\(x^{(m)})^T\n",
    "\\end{bmatrix}$\n",
    "$y = \\begin{bmatrix}\n",
    "y{(i)}\\\\...\\\\y^{(i)}\n",
    "\\end{bmatrix}$\n",
    "\n",
    "$\\theta = (X^TX + \\lambda L)X^Ty$\n",
    "\n",
    "$L = \\begin{bmatrix}\n",
    "0\\\\&1\\\\&&1\\\\&&&...\\\\&&&&1\n",
    "\\end{bmatrix}$\n",
    "\n",
    "<u>Adding $\\lambda L$, then $X^TX + \\lambda L$ always becomes invertible</u>"
   ]
  },
  {
   "cell_type": "markdown",
   "metadata": {},
   "source": [
    "## Regularized Logistic Regression"
   ]
  },
  {
   "cell_type": "markdown",
   "metadata": {},
   "source": [
    "### Gradient descent\n",
    "\n",
    "Repeat{<br>\n",
    "$\n",
    "\\theta_0 :=  \\theta_0 - \\alpha\\frac{1}{m}\\sum^m_{i=1}(h_\\theta(x^{(i)}) - y^{(i)})x^{(i)}_0\\\\\n",
    "\\theta := \\theta_j - \\alpha[\\frac{1}{m}\\sum^m_{i=1}(h_\\theta(x^{(i)}) - y{(i)})^{(i)}_j + \\frac{\\lambda}{m}\\theta_j]\n",
    "$<br>\n",
    "}"
   ]
  },
  {
   "cell_type": "markdown",
   "metadata": {},
   "source": [
    "### Advanced optimization"
   ]
  },
  {
   "cell_type": "code",
   "execution_count": null,
   "metadata": {},
   "outputs": [],
   "source": []
  }
 ],
 "metadata": {
  "kernelspec": {
   "display_name": "Python 3",
   "language": "python",
   "name": "python3"
  },
  "language_info": {
   "codemirror_mode": {
    "name": "ipython",
    "version": 3
   },
   "file_extension": ".py",
   "mimetype": "text/x-python",
   "name": "python",
   "nbconvert_exporter": "python",
   "pygments_lexer": "ipython3",
   "version": "3.6.5"
  }
 },
 "nbformat": 4,
 "nbformat_minor": 2
}
