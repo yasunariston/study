{
 "cells": [
  {
   "cell_type": "markdown",
   "metadata": {},
   "source": [
    "# Anomaly detection"
   ]
  },
  {
   "cell_type": "markdown",
   "metadata": {},
   "source": [
    "## Problem Motivation"
   ]
  },
  {
   "cell_type": "markdown",
   "metadata": {},
   "source": [
    "### Anomaly detection example\n",
    "\n",
    "Aircraft engine features:<br>\n",
    "$x_1$ = heat generated<br>\n",
    "$x_2$ = vibration intensity<br>\n",
    "...\n",
    "\n",
    "### Density estimation\n",
    "\n",
    "Dataset: {$x^{(1)}, x^{(2)}, ..., x^{(m)}$}<br>\n",
    "Is $x_{test}$ anomalous\n",
    "\n",
    "### Anomaly detection example\n",
    "\n",
    "Fraud detection:<br>\n",
    "$\\rightarrow$$x^{(i)}$ = feature of user $i's$ activates<br>\n",
    "$\\rightarrow$Model $p(x)$ from date.<br>\n",
    "$\\rightarrow$Identify unusual users by checking which have $p(x) < \\epsilon$\n",
    "\n",
    "Manufacturing:<br>\n",
    "$\\rightarrow$$x^{(i)}$ = features of machine $i$<br>\n",
    "$x_1$ = memory use, $x_2$ = number of disk accesses/sec,\n",
    "$x_3$ = CPU load, $x_4$ = CPU load/network traffic, $x_n$...<br>\n",
    "$\\rightarrow$$p(x) < \\epsilon$\n"
   ]
  },
  {
   "cell_type": "markdown",
   "metadata": {},
   "source": [
    "## Gaussian Distribution"
   ]
  },
  {
   "cell_type": "markdown",
   "metadata": {},
   "source": [
    "### Gaussian (Normal) distribution\n",
    "\n",
    "Say $x \\in \\mathbb{R}$. If $x$ is a distributed Gaussian with mean $\\mu$, variance $\\sigma^2$<br>\n",
    "$\\rightarrow$$x~\\mathcal{N}(\\mu, \\sigma^2)$"
   ]
  },
  {
   "cell_type": "code",
   "execution_count": 84,
   "metadata": {},
   "outputs": [
    {
     "data": {
      "image/png": "[encoded data removed]",
      "text/plain": [
       "<Figure size 432x288 with 1 Axes>"
      ]
     },
     "metadata": {
      "needs_background": "light"
     },
     "output_type": "display_data"
    }
   ],
   "source": [
    "import matplotlib.pyplot as plt\n",
    "import numpy as np\n",
    "\n",
    "mu = 50\n",
    "sigma = 10\n",
    "N = 10000\n",
    "x = np.random.normal(mu, sigma, N)\n",
    "plt.hist(x, bins=100)\n",
    "plt.show()"
   ]
  },
  {
   "cell_type": "code",
   "execution_count": 83,
   "metadata": {},
   "outputs": [
    {
     "data": {
      "image/png": "[encoded data removed]",
      "text/plain": [
       "<Figure size 432x288 with 1 Axes>"
      ]
     },
     "metadata": {
      "needs_background": "light"
     },
     "output_type": "display_data"
    }
   ],
   "source": [
    "mu = 0\n",
    "sigma = [0.5, 1, 2]\n",
    "N = 10000\n",
    "x1 = np.random.normal(mu, sigma[0], N)\n",
    "x2 = np.random.normal(mu, sigma[1], N)\n",
    "x3 = np.random.normal(mu, sigma[2], N)\n",
    "\n",
    "fig, ax = plt.subplots()\n",
    "\n",
    "ax.hist(x1, bins=int(100 * sigma[0]))\n",
    "ax.hist(x2, bins=int(100 * sigma[1]))\n",
    "ax.hist(x3, bins=int(100 * sigma[2]))\n",
    "\n",
    "plt.show()"
   ]
  },
  {
   "cell_type": "markdown",
   "metadata": {},
   "source": [
    "## Algotirhm"
   ]
  },
  {
   "cell_type": "markdown",
   "metadata": {},
   "source": [
    "### Density estimation\n",
    "\n",
    "Training set: {$x^{(1)}, ..., x^{(m)}$}<br>\n",
    "Each example is $x \\in \\mathbb{R}$\n",
    "\n",
    "$p(x) \\\\\n",
    "= p(x_1; \\mu_1, \\sigma^2_1)p(x_2; \\mu_2, \\sigma^2_2)p(x_3; \\mu_3, \\sigma^2_3)...p(x_n; \\mu_n, \\sigma^2_n)\\\\\n",
    "= \\Pi^n_{j=1}p(x_j; \\mu_j, \\sigma^2_j)\n",
    "$\n",
    "\n",
    "***<br>\n",
    "$\\sum_{i=1}^ni = 1 + 2 + 3 + ... + n$<br>\n",
    "$\\Pi_{i=1}^ni = 1 \\times 2 \\times 3 \\times .... \\times n$<br>\n",
    "\n",
    "### Anomaly detection algorithm\n",
    "\n",
    "1. Choose features $x_i$ that you think might be indicative of anomalous examples.\n",
    "2. Fit parameters $\\mu_1, ..., \\mu_n, \\sigma_1^2, ..., \\sigma_n^2$<br>\n",
    "    $\\mu_j = \\frac{1}{m}\\sum_{i=1}^mx_j^{(i)}$<br>\n",
    "    $\\sigma_j^2 = \\frac{1}{m}\\sum_{i=1}^m(x_j^{(i)} - \\mu_j)^2$\n",
    "3. Given new example $x$, compute $p(x)$:<br>\n",
    "    $p(x) = \\Pi_{j=1}^np(x_j; \\mu_j, \\sigma_j^2) = \\Pi_{j=1}^n\\frac{1}{\\sqrt{2\\pi}\\sigma_j}exp(-\\frac{(x_j-\\mu_j)^2}{2\\sigma_j^2})$<br>\n",
    "    Anomaly if $p(x) < \\epsilon$"
   ]
  },
  {
   "cell_type": "markdown",
   "metadata": {},
   "source": [
    "## Developing and Evaluating an Anomaly Detection System"
   ]
  },
  {
   "cell_type": "markdown",
   "metadata": {},
   "source": [
    "### The importance of real-number evaliation\n",
    "\n",
    "When developing a learning algorithm (choosing features, etc), making decisions is much easier if we have a way of evaluating our learning algoritm.<br>\n",
    "Assume we have some labeled data, of anomalous an non-anomalous examples. (y = 0 if normal, y = 1 if anomalous).<br>\n",
    "Training set: $x^{(1)}, x^{(2)}, ..., x^{(m)}$ (assume normal example/not anomalous)<br>\n",
    "Cross validation set: $(x_{cv}^{(1)}, y_{cv}^{(1)}), ..., (x_{cv}^{(m_{cv})}, y_{cv}^{(m_{cv})})$<br>\n",
    "Test set: $(x_{test}^{(1)}, y_{test}^{(1)}), ..., (x_{test}^{(m_{test})}, y_{test}^{(m_{test})})$\n",
    "\n",
    "### Aircraft engins motivationg example\n",
    "\n",
    "10000 good(normal) engines<br>\n",
    "20 frawed engines(anomalous)\n",
    "\n",
    "Training set: 6000 good engines (y = 0)<br>\n",
    "CV: 2000 good engines (y = 0), 10 anomalous (y = 1)<br>\n",
    "Test: 2000 good engines (y = 0), 10 anomalous(y = 1)\n",
    "\n",
    "Alternatice: (bad not reccomend):<br>\n",
    "Training set: 6000 good engines<br>\n",
    "CV: 4000 good engines (y = 0), 10 anomalous (y = 1)<br>\n",
    "Test: 4000 good engines (y = 0), 10 anomalous (y = 1)\n",
    "\n",
    "### Algorithm evaluation\n",
    "\n",
    "FIt model $p(x)$ on training set {$x^{(1)}, ..., x^{(m)}$}<br>\n",
    "On a cross validation/test example $x$ predict<br>\n",
    "$y = \\bigl\\{\n",
    "\\begin{array}\\\\\n",
    "1\\;\\;\\;\\verb| if | p(x) < \\epsilon\\verb| anomaly |\\\\\n",
    "0\\;\\;\\;\\verb| if | p(x) \\geq \\epsilon\\verb| normal |\\\\\n",
    "\\end{array}$\n",
    "\n",
    "Possible evaluation metrcs: <br>\n",
    "- True positive, false positive, false negative, true negative\n",
    "- Predict/Recall\n",
    "- $F_1-score$\n",
    "\n",
    "can also use cross validatoin set to choose parameter $\\epsilon$"
   ]
  },
  {
   "cell_type": "markdown",
   "metadata": {},
   "source": [
    "### Anomaly Detection vs. Supervised Learning\n",
    "\n",
    "<b><u>Anomaly detection:</u></b><br>\n",
    "- very small number of positive example (y = 1). (0-20 is common)\n",
    "- Large number of nagative (y = 0) example\n",
    "- Many different \"types\" of anomalies. Hard for any algorithm to learn from positive examples what the anomalies look like;\n",
    "- future anomalies may look nothing like any of the anomalous example we've seen so far\n",
    "\n",
    "<b><u>Supervised learning:</u></b><br>\n",
    "- Large number of positive and negative example\n",
    "- Enough positive example for algorithm to get sense of what positive exaple likely to be similer to ones in training set."
   ]
  },
  {
   "cell_type": "markdown",
   "metadata": {},
   "source": [
    "## Choosing What Features to Use"
   ]
  },
  {
   "cell_type": "markdown",
   "metadata": {},
   "source": [
    "### Non-gaussian features\n",
    "\n",
    "to convert faussian (ex. using $log(x + c), \\sqrt{x}, x^{t}$)\n",
    "\n",
    "### Error analysis for anomaly detection\n",
    "\n",
    "Want $p(x)$ large for normal example $x$.<br>\n",
    "$p(x)$ small for anomalous examples $x$.\n",
    "\n",
    "Most common problem:<br>\n",
    "$p(x)$ is comparable (say, both large) for noemal and anomalous examples\n",
    "\n",
    "### Monitoring coputers in a data center\n",
    "\n",
    "Choosing features that might take on unusually large or small values in the event of an anomaly.<br>\n",
    "$x_1$ = memory use of computer<br>\n",
    "$x_2$ = number of disk accesses/sec<br>\n",
    "$x_3$ = CPU load<br>\n",
    "$x_4$ = network traffic<br>\n",
    "$x_5$ = [createfeature] $\\frac{\\verb| CPU load |}{\\verb| network traffic |}$<br>\n",
    "$x_6$ = [createfeature] $\\frac{(\\verb| CPU load |)^2}{\\verb| network traffic |}$\n",
    "\n"
   ]
  },
  {
   "cell_type": "markdown",
   "metadata": {},
   "source": [
    "## Multivariate Gaussian Distribution"
   ]
  },
  {
   "cell_type": "markdown",
   "metadata": {},
   "source": [
    "### Multivariate Gaussian (Normal) distribution\n",
    "\n",
    "$x \\in \\mathbb{R}$. Don't model $p(x_1), p(x_2), ..., $ etc. separately.<br>\n",
    "Model $p(x)$ all in one go.<br>\n",
    "Parameters: $\\mu \\in \\mathbb{R}^n, \\Sigma \\in \\mathbb{R}^{n \\times n}$ (covariance matrix)\n",
    "\n",
    "Parameters $\\mu, \\Sigma$<br>\n",
    "$p(x; \\mu, \\Sigma) = \\frac{1}{(2\\pi)^{\\frac{\\pi}{2}}|\\Sigma|^{\\frac{1}{2}}}exp\\biggl(-\\frac{1}{2}(x - \\mu)^T\\Sigma^{-1}(x - \\mu)\\biggr)$"
   ]
  },
  {
   "cell_type": "markdown",
   "metadata": {},
   "source": [
    "## Anomaly Detection using the Multivariate Gaussian Distribution"
   ]
  },
  {
   "cell_type": "markdown",
   "metadata": {},
   "source": [
    "Parameters $\\mu, \\Sigma$<br>\n",
    "$p(x; \\mu, \\Sigma) = \\frac{1}{(2\\pi)^{\\frac{\\pi}{2}}|\\Sigma|^{\\frac{1}{2}}}exp\\biggl(-\\frac{1}{2}(x - \\mu)^T\\Sigma^{-1}(x - \\mu)\\biggr)$\n",
    "\n",
    "Paeameter fitting:<br>\n",
    "Given training set {$x^{(1)}, x^{(2)}, ..., x^{(m)}$}<br>\n",
    "$\\mu = \\frac{1}{m}\\sum_{i=1}^mx^{(i)}$<br>\n",
    "$\\Sigma = \\frac{1}{m}\\sum_{i = 1}^m(x^{(i)} - \\mu)(x^{(i)} - \\mu)^T$\n",
    "\n",
    "### Anomaly detection with the multivariate Gaussian\n",
    "\n",
    "1.Fit model $p(x)$ by setting<br>\n",
    "$\\mu = \\frac{1}{m}\\sum_{i=1}^mx^{(i)}$<br>\n",
    "$\\Sigma = \\frac{1}{m}\\sum_{i = 1}^m(x^{(i)} - \\mu)(x^{(i)} - \\mu)^T$\n",
    "\n",
    "2.Given a new example $x$, compute<br>\n",
    "$p(x; \\mu, \\Sigma) = \\frac{1}{(2\\pi)^{\\frac{\\pi}{2}}|\\Sigma|^{\\frac{1}{2}}}exp\\biggl(-\\frac{1}{2}(x - \\mu)^T\\Sigma^{-1}(x - \\mu)\\biggr)$\n",
    "\n",
    "Flag an anomaly if $p(x) < \\epsilon$\n",
    "\n",
    "### Relationship to original model\n",
    "\n",
    "Original model: $p(x) = p(x_1; \\mu_1, \\sigma_1^2) \\times p(x_2; \\mu_2, \\sigma_2^2) \\times ... \\times p(x_n; \\mu_n, \\sigma_n^2)$\n",
    "Multivariate Gaussian: $p(x; \\mu, \\Sigma) = \\frac{1}{(2\\pi)^{\\frac{\\pi}{2}}|\\Sigma|^{\\frac{1}{2}}}exp\\biggl(-\\frac{1}{2}(x - \\mu)^T\\Sigma^{-1}(x - \\mu)\\biggr)$\n",
    "\n",
    "### Original model vs Multivariate Gaussian\n",
    "\n",
    "<b><u>Original model</u></b>\n",
    "- Manually create features to capture anomalies where $x_1, x_2$ take unusual combinations of values\n",
    "- Computatinoally cheaper (alternatively, scales better to large n)<br> n = 10,000,  n = 100,000\n",
    "- OK even if $m$ (tainining set size) is small\n",
    "\n",
    "<b><u>Multivariate Gaussian</u></b>\n",
    "- Automatically captures correlations between features\n",
    "- Computationally more expensive\n",
    "- Must have $m > n$, or else $\\Sigma$ is non-invertible <br>\n",
    "$m \\geq 10n$"
   ]
  },
  {
   "cell_type": "markdown",
   "metadata": {},
   "source": [
    "## Test\n",
    "\n",
    "<b><u>Question1</u></b><br>\n",
    "For which of the following problems would anomaly detection be a suitable algorithm?\n",
    "- Given data from credit card transactions, classify each transaction according to type of purchase (for example: food, transportation, clothing).\n",
    "- From a large set of primary care patient records, identify individuals who might have unusual health conditions.\n",
    "- In a computer chip fabrication plant, identify microchips that might be defective.\n",
    "- From a large set of hospital patient records, predict which patients have a particular disease (say, the flu).\n",
    "\n",
    "<b><u>Question2</u></b><br>\n",
    "Suppose you have trained an anomaly detection system for fraud detection, and your system that flags anomalies when p(x)p(x) is less than \\varepsilonε, and you find on the cross-validation set that it mis-flagging far too many good transactions as fradulent. What should you do?\n",
    "- Increase $\\epsilon$\n",
    "- Decrease $\\epsilon$\n",
    "\n",
    "<b><u>Question3</u></b><br>\n",
    "Suppose you are developing an anomaly detection system to catch manufacturing defects in airplane engines. You model uses<br>\n",
    "$p(x) = \\Pi^n_{j=1}p(x_j; \\mu_j, \\sigma^2_j)$<br>\n",
    "You have two features $x_1$ = vibration intensity, and $x_2$ = heat generated. Both $x_1$ and $x_2$ take on values between 0 and 1 (and are strictly greater than 0), and for most \"normal\" engines you expect that $x_1 \\approx x_2$. One of the suspected anomalies is that a flawed engine may vibrate very intensely even without generating much heat (large $x_1$, small $x_2$), even though the particular values of $x_1$ and $x_2$ may not fall outside their typical ranges of values. What additional feature $x_3$ should you create to capture these types of anomalies:\n",
    "- $x_3 = x_1 \\times x_2$\n",
    "- $x_3 = x_1 + x_2$\n",
    "- $x_3 = \\frac{x_1}{x_2}$\n",
    "- $x_3 = x_1^2 \\times x_2$\n",
    "\n",
    "<b><u>Question4</u></b><br>\n",
    "Which of the following are true? Check all that apply.\n",
    "- When choosing features for an anomaly detection system, it is a good idea to look for features that take on unusually large or small values for (mainly the) anomalous examples.\n",
    "- If you are developing an anomaly detection system, there is no way to make use of labeled data to improve your system.\n",
    "- If you do not have any labeled data (or if all your data has label $y=0$), then is is still possible to learn $p(x)$, but it may be harder to evaluate the system or choose a good value of $\\epsilon$.\n",
    "- If you have a large labeled training set with many positive examples and many negative examples, the anomaly detection algorithm will likely perform just as well as a supervised learning algorithm such as an SVM.\n",
    "\n",
    "<b><u>Question5</u></b><br>\n",
    "You have a 1-D dataset $\\{x^{(1)}, \\ldots, x^{(m)}$\n",
    " } and you want to detect outliers in the dataset. You first plot the dataset and it looks like this:\n",
    "\n",
    "[graph]\n",
    "\n",
    "Suppose you fit the gaussian distribution parameters $\\mu_1$ and $\\sigma_1^2$ to this dataset. Which of the following values for $\\mu_1$ and $\\sigma_1^2$ might you get?\n",
    "- $\\mu=−3, \\sigma_1^2 = 4$\n",
    "- $\\mu=−6, \\sigma_1^2 = 4$\n",
    "- $\\mu=−3, \\sigma_1^2 = 2$\n",
    "- $\\mu=−6, \\sigma_1^2 = 2$\n"
   ]
  },
  {
   "cell_type": "markdown",
   "metadata": {},
   "source": [
    "<hr>\n",
    "\n",
    "# Recommender System"
   ]
  },
  {
   "cell_type": "markdown",
   "metadata": {},
   "source": [
    "## Problem Fomulation"
   ]
  },
  {
   "cell_type": "markdown",
   "metadata": {},
   "source": [
    "### Example: Predictiong motive ratings\n",
    "\n",
    "User rate movies using <s>one</s> <font color=\"red\">zero</font> to five stars\n",
    "\n",
    "|type|Movie|Alice(1)|Bob(2)|Carol(3)|Dave(4)|\n",
    "|:-----:|:-----:|:---------:|:--------:|:---------:|:---------:|\n",
    "|love|Love at last|5|5|0|0|\n",
    "|love|Romance forever|5|?|?|0|\n",
    "|love|Cute pupplies of love|?|4|0|?|\n",
    "|action|Nonstop car chase|0|0|5|4|\n",
    "|action|Sword vs. karate|0|0|5|?|\n",
    "\n",
    "$n_u$ = no.users<br>\n",
    "$n_m$ = no.movies<br>\n",
    "$r(i, j)$ = 1 if user $j$ has rated movie $i$<br>\n",
    "$y^{(i, j)}$ = rating given by user $j$ to movie $i$ (defined only if $r(i, j) = 1$)"
   ]
  },
  {
   "cell_type": "markdown",
   "metadata": {},
   "source": [
    "## Content Based Reccomendations\n",
    "\n"
   ]
  },
  {
   "cell_type": "markdown",
   "metadata": {},
   "source": [
    "### Contetnt-based recommender system\n"
   ]
  },
  {
   "cell_type": "markdown",
   "metadata": {},
   "source": [
    "|type|Movie|Alice(1)|Bob(2)|Carol(3)|Dave(4)|$x_1$<br>(romance)|$x_2$<br>(action)|\n",
    "|:-----:|:-----:|:---------:|:--------:|:---------:|:---------:|:-------:|:-------:|\n",
    "|romance|Love at last|5|5|0|0|0.9|0|\n",
    "|romance|Romance forever|5|?|?|0|1.0|0.01|^{(1)}\n",
    "|romance|Cute pupplies of love|?|4|0|?|0.99|0|\n",
    "|action|Nonstop car chase|0|0|5|4|0.1|1.0|\n",
    "|action|Sword vs. karate|0|0|5|?|0|0.9|\n",
    "\n",
    "$n_u = 4, n_m = 5, x_0 = 1$<br>\n",
    "$x^{(1)} = \\begin{bmatrix}\n",
    "1\\\\0.9\\\\0\n",
    "\\end{bmatrix}$\n",
    "$x^{(2)} = \\begin{bmatrix}\n",
    "1\\\\1.0\\\\0.01\n",
    "\\end{bmatrix}$\n",
    "$x^{(3)} = ...$\n",
    "\n",
    "For each user $j$, learn a parameter $\\theta^{(i)} \\in \\mathbb{R}^3$. Predict user $j$ as rating move $i$ with $(\\theta^{(i)})^Tx^{(i)}$ stars.\n",
    "\n",
    "$x^{(3)} = \\begin{bmatrix}\n",
    "1\\\\0.99\\\\0\n",
    "\\end{bmatrix}$\n",
    "$\\theta^{(1)} = \\begin{bmatrix}\n",
    "0\\\\5\\\\0\n",
    "\\end{bmatrix}$<br>\n",
    "$(\\theta^{(1)})^Tx^{(3)} = \\int x0.99 = 4.95$\n",
    "\n",
    "### Problem formulation\n",
    "\n",
    "$r(i, j) = 1$ if user $j$ has rated movie $i$ (0 otherwise)<br>\n",
    "$r^{(o, j)}$ = rating by user $j$ on movie $i$ (If defined)\n",
    "\n",
    "$\\theta^{(j)}$ = parameter vector for user $i$<br>\n",
    "$x^{(i)}$ = feature vector for movie $i$<br>\n",
    "For user $j$, movie $i$, predited rating: $(\\theta^{(j)})^T(x^{(i)})$<br>\n",
    "\n",
    "$m^{(j)}$ = no. of movies rated by user $j$<br>\n",
    "To leatn $\\theta^{(j)}$:<br>\n",
    "$min_{\\theta^{(j)}}\\frac{1}{2m^{(j)}}\\Sigma_{i:r(i,j) = 1}\\biggl((\\theta^{(j))^T(x^{(i)})} - y^{(i, j)}\\biggr)^2 + \\frac{\\lambda}{2m^{(j)}}\\sum_{k = 1}^n(\\theta_k^{j})^2$\n",
    "\n",
    "### Optimization objective:\n",
    "To learn $\\theta^{(j)}$ (parameter for user $j$):<br>\n",
    "$min_{\\theta^{(j)}}\\frac{1}{2}\\sum_{i:r(i,j) = 1}\\biggl((\\theta^{(j))^T(x^{(i)})} - y^{(i, j)}\\biggr)^2 + \\frac{\\lambda}{2}\\sum_{k = 1}^n(\\theta_k^{j})^2$\n",
    "\n",
    "To learn $\\theta^{(1)}, \\theta^{(2)}, ..., \\theta^{(n_u)}$:<br>\n",
    "$min_\\theta^{(1)}, ..., \\theta^(n_u)\\frac{1}{2}\\sum_{j=1}^{n_u}\\sum_{i:r(i, j)=1} + \\frac{\\lambda}{2}\\sum_{j=1}^{n_u}\\sum_{k=1}^n(\\theta_k^{(j)})^2$\n",
    "\n",
    "### Opatimiaztion algorithm:\n",
    "$min_\\theta^{(1)}, ..., \\theta^(n_u)\\frac{1}{2}\\sum_{j=1}^{n_u}\\sum_{i:r(i, j)=1} + \\frac{\\lambda}{2}\\sum_{j=1}^{n_u}\\sum_{k=1}^n(\\theta_k^{(j)})^2$\n",
    "\n",
    "Gradient discent update:<br>\n",
    "$\\theta_k^{(j)} := \\theta_k^{(j)} - \\alpha \\sum_{i:r(i, j) = 1} ((\\theta^{(j)})^Tx^{(i)} - y^{(i, j)})x_k^{(i)}$ (for k = 0) <br>\n",
    "$\\theta_k^{(j)} := \\theta_k^{(j)} - \\alpha\\biggl(\\sum_{i:r(i, j) = 1} ((\\theta^{(j)})^Tx^{(i)} - y^{(i, j)})x_k^{(i)} + \\lambda\\theta_j^{(j)}\\biggr)$ (for k ≠ 0)"
   ]
  },
  {
   "cell_type": "markdown",
   "metadata": {},
   "source": [
    "## Collaborative Filtering"
   ]
  },
  {
   "cell_type": "markdown",
   "metadata": {},
   "source": [
    "### Problem motivation\n",
    "\n",
    "|type|Movie|Alice(1)|Bob(2)|Carol(3)|Dave(4)|$x_1$<br>(romance)|$x_2$<br>(action)|\n",
    "|:-----:|:-----:|:---------:|:--------:|:---------:|:---------:|:-------:|:-------:|\n",
    "|romance|Love at last|5|5|0|0|?|?|\n",
    "|romance|Romance forever|5|?|?|0|?|?|\n",
    "|romance|Cute pupplies of love|?|4|0|?|?|?|\n",
    "|action|Nonstop car chase|0|0|5|4|?|?|\n",
    "|action|Sword vs. karate|0|0|5|?|?|?|\n",
    "\n",
    "$\\theta^{(1)} = \\begin{bmatrix}0\\\\5\\\\0\\end{bmatrix}$\n",
    "$\\theta^{(2)} = \\begin{bmatrix}0\\\\5\\\\0\\end{bmatrix}$\n",
    "$\\theta^{(3)} = \\begin{bmatrix}0\\\\0\\\\5\\end{bmatrix}$\n",
    "$\\theta^{(4)} = \\begin{bmatrix}0\\\\0\\\\5\\end{bmatrix}$\n",
    "\n",
    "### Optimization algorithm\n",
    "\n",
    "Given $\\theta^{(1)}, ..., \\theta^{n_u}$, to learn $x^{(i)}$<br>\n",
    "$\\rightarrow min_{x^{(i)}}\\frac{1}{2}\\sum_{j:r(i, j) = 1}((\\theta^{(j)})^Tx^{(i)} - y^{(i, j)})^2 + \\frac{\\lambda}{2}\\sum_{k=1}^n(x_k^{(i)})^2$\n",
    "\n",
    "Given $\\theta^{(1)}, ..., \\theta^{(n_u)}$, to learn $x^{(1)}, ..., x^{(n_m)}$:<br>\n",
    "$\\rightarrow min_{x^{(1)}, ..., x^{n_m}}\\frac{1}{2}\\sum_{i=1}^{n_m}\\sum_{j:r(i, j)=1}((\\theta)^Tx^{(i) - y^{(i, j)}})^2 + \\frac{\\lambda}{2}\\sum_{i=1}^{n_m}\\sum_{k = 1}^n(x_k^{(i)})^2$\n",
    "\n",
    "### Collaborative filtering\n",
    "\n",
    "Given $x^{(1)}, ..., x^{n_m}$ (and movie ratings),<br>\n",
    "can estimate $\\theta^{(1), ..., \\theta^{(n_u)}}$\n",
    "\n",
    "Given $\\theta^{(1), ..., \\theta^{(n_u)}}$ (and movie ratings),<br>\n",
    "can estimate $x^{(1)}, ..., x^{n_m}$"
   ]
  },
  {
   "cell_type": "markdown",
   "metadata": {},
   "source": [
    "## Collaborative Filtering Algorithm\n",
    "\n",
    "1. Initialize $x^(1), ..., x^{(n)}, \\theta^{(1)}, ..., \\theta^{(n_m)}$ to small random values.\n",
    "2. Minimize $J(x^(1), ..., x^{(n)}, \\theta^{(1)}, ..., \\theta^{(n_m)})$ using gradient descent (or an advanced optimization algorithm). E.g. for every $j = 1, ..., n_m, i = 1, ..., n_m$:<br>\n",
    "$x_k^{(i)} = x_k^{(i)} - \\alpha\\biggl(\\sum_{j:r(i, j) = 1} ((\\theta^{(j)})^Tx^{(i)} - y^{(i, j)})\\theta_k^{(j)} + \\lambda x_k^{(i)}\\biggr)$ <br>\n",
    "$\\theta_k^{(i)} = \\theta_k^{(i)} - \\alpha\\biggl(\\sum_{j:r(i, j) = 1} ((\\theta^{(j)})^Tx^{(i)} - y^{(i, j)})\\theta_k^{(j)} + \\lambda \\theta_k^{(i)}\\biggr)$ <br>\n",
    "3. For a user with parameter $\\theta$ and a movie with (learned) features $x$, predict a star rating of $\\theta^Tx$"
   ]
  },
  {
   "cell_type": "markdown",
   "metadata": {},
   "source": [
    "## Vectorization: Low Rank Matrix Factorization"
   ]
  },
  {
   "cell_type": "markdown",
   "metadata": {},
   "source": [
    "### Collaborative filtering\n",
    "\n",
    "$Y = \\begin{bmatrix}\n",
    "5&5&0&0\\\\\n",
    "5&?&?&0\\\\\n",
    "?&4&0&?\\\\\n",
    "0&0&5&4\\\\\n",
    "0&0&5&0\n",
    "\\end{bmatrix}$\n",
    "\n",
    "Preadict ratings:<br>\n",
    "$\\begin{bmatrix}\n",
    "(\\theta^{(1)})^T(x^{(1)})&(\\theta^{(2)})^T(x^{(1)})&\\cdots&(\\theta^{(n_u)})^T(x^{(1)})\\\\\n",
    "(\\theta^{(1)})^T(x^{(2)})&(\\theta^{(2)})^T(x^{(2)})&\\cdots&(\\theta^{(n_u)})^T(x^{(2)})\\\\\n",
    "\\vdots&\\vdots&\\ddots&\\vdots\\\\\n",
    "(\\theta^{(1)})^T(x^{(n_m)})&(\\theta^{(2)})^T(x^{(n_m)})&\\cdots&(\\theta^{(n_u)})^T(x^{(n_m)})\\\\\n",
    "\\end{bmatrix}$\n",
    "\n",
    "### Finding related movies\n",
    "\n",
    "For each product $i$, we learn a feature vector $x^{(i)} \\in \\mathbb{R}$.\n",
    "\n",
    "How to find movie $j$ related movie $i$?\n",
    "\n",
    " 5 most similer movies to movie $i$:<br>\n",
    " FInd 5 movies $j$ with the smallest $||x^{(i)} - x^{(j)}||$"
   ]
  },
  {
   "cell_type": "markdown",
   "metadata": {},
   "source": [
    "## Implementational Detail: Mean Normalization"
   ]
  },
  {
   "cell_type": "markdown",
   "metadata": {},
   "source": [
    "### Mean Normalization:\n",
    "\n",
    "$Y = \\begin{bmatrix}\n",
    "5&5&0&0&?\\\\\n",
    "5&?&?&0&?\\\\\n",
    "?&4&0&?&?\\\\\n",
    "0&0&5&4&?\\\\\n",
    "0&0&5&0&?\n",
    "\\end{bmatrix}$\n",
    "$\\mu = \\begin{bmatrix}\n",
    "2.5\\\\\n",
    "2.5\\\\\n",
    "2\\\\\n",
    "2.25\\\\\n",
    "1.25\n",
    "\\end{bmatrix}$\n",
    "$Y = \\begin{bmatrix}\n",
    "2.5&2.5&-2.5&-2.5&?\\\\\n",
    "2.5&?&?&-2.5&?\\\\\n",
    "?&2&-2&?&?\\\\\n",
    "-2.25&-2.25&2.75&1.75&?\\\\\n",
    "-1.25&-1.25&3.75&-1.25&?\n",
    "\\end{bmatrix}$\n",
    "\n",
    "For user $j$, on movie $i$ predict:<br>\n",
    "$\\rightarrow (\\theta^{(j)})^T(x^{(i)}) + \\mu_i$\n",
    "\n",
    "User 5(Eve) = $\\begin{bmatrix}0\\\\0\\end{bmatrix}$<br>\n",
    "$(\\theta^{(s)})^T(x^{(i)}) + \\mu_i$"
   ]
  },
  {
   "cell_type": "markdown",
   "metadata": {},
   "source": [
    "## Test\n",
    "\n",
    "<b><u>Question1:</u></b><br>\n",
    "Suppose you run a bookstore, and have ratings (1 to 5 stars) of books. Your collaborative filtering algorithm has learned a parameter vector $\\theta^{(j)}$ for user $j$, and a feature vector $x^{(i)}x$ for each book. You would like to compute the \"training error\", meaning the average squared error of your system's predictions on all the ratings that you have gotten from your users. Which of these are correct ways of doing so (check all that apply)? For this problem, let $m$ be the total number of ratings you  have gotten from your users. (Another way of saying this is that \n",
    "\n",
    "\n",
    "<b><u>Question2:</u></b><br>\n",
    "In which of the following situations will a collaborative filtering system be the most appropriate learning algorithm (compared to linear or logistic regression)?\n",
    "- You run an online bookstore and collect the ratings of many users. You want to use this to identify what books are \"similar\" to each other (i.e., if one user likes a certain book, what are other books that she might also like?)\n",
    "- You're an artist and hand-paint portraits for your clients. Each client gets a different portrait (of themselves) and gives you 1-5 star rating feedback, and each client purchases at most 1 portrait. You'd like to predict what rating your next customer will give you.\n",
    "- You own a clothing store that sells many styles and brands of jeans. You have collected reviews of the different styles and brands from frequent shoppers, and you want to use these reviews to offer those shoppers discounts on the jeans you think they are most likely to purchase\n",
    "- You manage an online bookstore and you have the book ratings from many users. You want to learn to predict the expected sales volume (number of books sold) as a function of the average rating of a book.\n",
    "\n",
    "<b><u>Question3:</u></b><br>\n",
    "You run a movie empire, and want to build a movie recommendation system based on collaborative filtering. There were three popular review websites (which we'll call A, B and C) which users to go to rate movies, and you have just acquired all three companies that run these websites. You'd like to merge the three companies' datasets together to build a single/unified system. On website A, users rank a movie as having 1 through 5 stars. On website B, users rank on a scale of 1 - 10, and decimal values (e.g., 7.5) are allowed. On website C, the ratings are from 1 to 100. You also have enough information to identify users/movies on one website with users/movies on a different website. Which of the following statements is true?\n",
    "- You can merge the three datasets into one, but you should first normalize each dataset's ratings (say rescale each dataset's ratings to a 1-100 range).\n",
    "- It is not possible to combine these websites' data. You must build three separate recommendation systems.\n",
    "- You can combine all three training sets into one without any modification and expect high performance from a recommendation system.\n",
    "- Assuming that there is at least one movie/user in one database that doesn't also appear in a second database, there is no sound way to merge the datasets, because of the missing data.\n",
    "\n",
    "<b><u>Question4:</u></b><br>\n",
    "Which of the following are true of collaborative filtering systems? Check all that apply.\n",
    "- Even if each user has rated only a small fraction of all of your products (so $r(i,j)=0$ for the vast majority of $(i,j)$ pairs), you can still build a recommender system by using collaborative filtering.\n",
    "- Suppose you are writing a recommender system to predict a user's book preferences. In order to build such a system, you need that user to rate all the other books in your training set.\n",
    "- For collaborative filtering, it is possible to use one of the advanced optimization algoirthms (L-BFGS/conjugate gradient/etc.) to solve for both the $x^{(i)}$'s and $\\theta^{(j)}$ 's simultaneously.\n",
    "- For collaborative filtering, the optimization algorithm you should use is gradient descent. In particular, you cannot use more advanced optimization algorithms (L-BFGS/conjugate gradient/etc.) for collaborative filtering, since you have to solve for both the $x^{(i)}$'s and $\\theta^{(j)}$'s simultaneously.\n",
    "\n",
    "<b><u>Question5:</u></b><br>"
   ]
  },
  {
   "cell_type": "code",
   "execution_count": null,
   "metadata": {},
   "outputs": [],
   "source": []
  }
 ],
 "metadata": {
  "kernelspec": {
   "display_name": "Python 3",
   "language": "python",
   "name": "python3"
  },
  "language_info": {
   "codemirror_mode": {
    "name": "ipython",
    "version": 3
   },
   "file_extension": ".py",
   "mimetype": "text/x-python",
   "name": "python",
   "nbconvert_exporter": "python",
   "pygments_lexer": "ipython3",
   "version": "3.6.7"
  }
 },
 "nbformat": 4,
 "nbformat_minor": 2
}
