{
 "cells": [
  {
   "cell_type": "markdown",
   "metadata": {},
   "source": [
    "# Clustering"
   ]
  },
  {
   "cell_type": "markdown",
   "metadata": {},
   "source": [
    "## Unsupervised Learning: Introduction"
   ]
  },
  {
   "cell_type": "markdown",
   "metadata": {},
   "source": [
    "### Application of clustering\n",
    "\n",
    "- Market of Clustering\n",
    "- Social network analysis\n",
    "- Organize conputing vlusters\n",
    "- Astronomical data analysis"
   ]
  },
  {
   "cell_type": "markdown",
   "metadata": {},
   "source": [
    "## K-Means Algorithm"
   ]
  },
  {
   "cell_type": "markdown",
   "metadata": {},
   "source": [
    "Input:\n",
    "- K(number of clusters)\n",
    "- Training set {$x^{(1)}, x^{(2)}, ..., x{(m)}$}\n",
    "\n",
    "$x^{(i)} \\in \\mathbb{R}$ (drop $x_0 = 1$ convention)\n",
    "\n",
    "Randomly initialize K cluster centroids $\\mu_1, \\mu_2, ..., \\mu_K \\in \\mathbb{R}$<br>\n",
    "Repeat{<br>\n",
    "for $i$ = 1 to $m$<br>\n",
    "$c^{(i)}$ := index (from 1 to K) of cluster centroid closest to $x^{(i)}$<br>\n",
    "($c^{(i)} = min_k||x^{(i)} - \\mu_k||^2$)\n",
    "\n",
    "for $k$ = 1 to $K$<br>\n",
    "$\\mu_k$ := average (mean) of points assigind to cluster $k$<br>\n",
    "}\n",
    "\n",
    "### K-meands for non-separated clusters\n"
   ]
  },
  {
   "cell_type": "markdown",
   "metadata": {},
   "source": [
    "## Optimizatoin Objective"
   ]
  },
  {
   "cell_type": "markdown",
   "metadata": {},
   "source": [
    "### K-means optimization objective\n",
    "\n",
    "$c^{(i)} = index of cluster (1, 2, ..., K)$ to which example $x^{(i)}$ is currently assigned<br>\n",
    "$\\mu_k$ = cluster centroid $k\\;\\mu_k \\in \\mathbb{R}$<br>\n",
    "$\\mu_{c^{(i)}}$ = cluster centroid of cluster to which example $x^{(i)}$ has been assigned\n",
    "\n",
    "Optimization objective:<br>\n",
    "$J(x^{(1)}, ..., c^{m}, \\mu_1, ..., \\mu_K) = \\frac{1}{m}\\sum^m_{i=1}||x^{(i)} - \\mu_{c^{(i)}}||^2$<br>"
   ]
  },
  {
   "cell_type": "markdown",
   "metadata": {},
   "source": [
    "## Random Initialization\n",
    "\n",
    "Should have $K < m$\n",
    "\n",
    "Randomly pick $K$ training example\n",
    "\n",
    "Set $\\mu_1, ..., \\mu_K$ equal to these $K$ exmaples.\n",
    "\n",
    "For i = 1 to 100{<br>\n",
    "\n",
    "Randomly initialize K-means.<br>\n",
    "Run K-means. Get $c^{(1)}..., c^{(m)}, \\mu_1, ..., \\mu_K$<br>\n",
    "Conpute cost function (distortion)<br>\n",
    "$\\rightarrow J(c^{(1)}, ..., c^{(m)}, \\mu_1, ..., \\mu_K)$<br>\n",
    "}\n",
    "\n",
    "Pick clustering that gave lowest cost $J(c^{(1)}, ..., c^{(m)}, \\mu_1, ..., \\mu_K)$"
   ]
  },
  {
   "cell_type": "markdown",
   "metadata": {},
   "source": [
    "## Choosing the Number of Clusters"
   ]
  },
  {
   "cell_type": "markdown",
   "metadata": {},
   "source": [
    "### Choosing the value of K\n",
    "\n",
    "Elbow method:<br>\n",
    "<b>K = 3 is \"Elbow point\"</b>\n",
    "\n",
    "<u>but many case, \"Elbow point\" is unclear</u>"
   ]
  },
  {
   "cell_type": "code",
   "execution_count": 10,
   "metadata": {},
   "outputs": [
    {
     "data": {
      "text/plain": [
       "Text(0,0.5,'Cost function J')"
      ]
     },
     "execution_count": 10,
     "metadata": {},
     "output_type": "execute_result"
    },
    {
     "data": {
      "image/png": "[encoded data removed]",
      "text/plain": [
       "<Figure size 432x288 with 1 Axes>"
      ]
     },
     "metadata": {},
     "output_type": "display_data"
    }
   ],
   "source": [
    "%matplotlib inline\n",
    "import matplotlib.pyplot as plt\n",
    "import numpy as np\n",
    "\n",
    "fig, ax = plt.subplots()\n",
    "x = np.arange(1.0, 9.0, 1.0)\n",
    "y = np.array([10, 6, 3, 2.5, 2.1, 1.8, 1.6, 1.5])\n",
    "ax.plot(x, y)\n",
    "\n",
    "ax.set_xlabel(\"K(no. of clusters)\")\n",
    "ax.set_ylabel(\"Cost function J\")"
   ]
  },
  {
   "cell_type": "markdown",
   "metadata": {},
   "source": [
    "Sometimes, you're runnning K-means to get to use for some later/downstream purpose. Evaluate K-means based on a metric for how well it performs for that later purpose."
   ]
  },
  {
   "cell_type": "markdown",
   "metadata": {},
   "source": [
    "## Test\n",
    "\n",
    "<b>Question1.</b><br>\n",
    "For which of the following tasks might K-means clustering be a suitable algorithm? Select all that apply.\n",
    "    - Given a database of information about your users, automatically group them into different market segments.\n",
    "    - Given sales data from a large number of products in a supermarket, figure out which products tend to form coherent groups (say are frequently purchased together) and thus should be put on the same shelf.\n",
    "    - Given historical weather records, predict the amount of rainfall tomorrow (this would be a real-valued output)\n",
    "    - Given sales data from a large number of products in a supermarket, estimate future sales for each of these products.\n",
    "    \n",
    "<b>Question2.</b><br>\n",
    "Suppose we have three cluster centroids \n",
    "$\\mu_1=$\n",
    "$\\begin{bmatrix}\n",
    "1\\\\2\n",
    "\\end{bmatrix}$, \n",
    "$\\mu_2=$\n",
    "$\\begin{bmatrix}\n",
    "-3\\\\0\n",
    "\\end{bmatrix}$, \n",
    "$\\mu_3=$\n",
    "$\\begin{bmatrix}\n",
    "4\\\\2\n",
    "\\end{bmatrix}$.\n",
    "Furthermore, we have a training example\n",
    "$x^{(i)}=$\n",
    "$\\begin{bmatrix}\n",
    "3\\\\1\n",
    "\\end{bmatrix}$.\n",
    "After a cluster assignment step, what will $c^{(i)}$ be?\n",
    "\n",
    "- $c^{(i)}$ = 1\n",
    "- $c^{(i)}$ is not assigned\n",
    "- $c^{(i)}$ = 2\n",
    "- $c^{(i)}$ = 3\n",
    "\n",
    "\n",
    "<b>Question3.</b><br>\n",
    "K-means is an iterative algorithm, and two of the following steps are repeatedly carried out in its inner-loop. Which two?\n",
    "- The cluster assignment step, where the parameters $c^{(i)}$ are updated.\n",
    "- The cluster centroid assignment step, where each cluster centroid $\\mu_i$ is assigned (by setting $c^{(i)}$\n",
    "- Move each cluster centroid $\\mu_k$, by setting it to be equal to the closest training example $x^{(i)}$\n",
    "- Move the cluster centroids, where the centroids $\\mu_k$ are updated.\n",
    "\n",
    "<b>Question4.</b><br>\n",
    "Suppose you have an unlabeled dataset $\\{x^{(1)}, \\ldots, x^{(m)}\\}$ You run K-means with 50 different random initializations, and obtain 50 different clusterings of the data. What is the recommended way for choosing which one of these 50 clusterings to use?\n",
    "- Use the elbow method.\n",
    "- Manually examine the clusterings, and pick the best one.\n",
    "- Compute the distortion function $J(c^{(1)}, \\ldots, c^{(m)}, \\mu_1, \\ldots,\\mu_k)$ and pick the one that minimizes this.\n",
    "- Plot the data and the cluster centroids, and pick the clustering that gives the most \"coherent\" cluster centroids.\n",
    "\n",
    "<b>Question5.</b><br>\n",
    "Which of the following statements are true? Select all that apply.\n",
    "- If we are worried about K-means getting stuck in bad local optima, one way to ameliorate (reduce) this problem is if we try using multiple random initializations.\n",
    "- For some datasets, the \"right\" or \"correct\" value of K (the number of clusters) can be ambiguous, and hard even for a human expert looking carefully at the data to decide.\n",
    "- The standard way of initializing K-means is setting $\\mu_1 = \\cdots = \\mu_k$ to be equal to a vector of zeros.\n",
    "- Since K-Means is an unsupervised learning algorithm, it cannot overfit the data, and thus it is always better to have as large a number of clusters as is computationally feasible."
   ]
  },
  {
   "cell_type": "markdown",
   "metadata": {},
   "source": [
    "<hr>\n",
    "# Dimensionality Reduction"
   ]
  },
  {
   "cell_type": "markdown",
   "metadata": {},
   "source": [
    "## Motivation I: Data Compression"
   ]
  },
  {
   "cell_type": "markdown",
   "metadata": {},
   "source": [
    "## Motivation II: Visualization"
   ]
  },
  {
   "cell_type": "markdown",
   "metadata": {},
   "source": [
    "## Principal Component Analysis Problem Formulation"
   ]
  },
  {
   "cell_type": "markdown",
   "metadata": {},
   "source": [
    "- Reduce from 2-deimension to 1-dimension: Find a direction (a vector $\\mu^{(i)} \\in \\mathbb{R}^n)$ onto which to project the data so as to minimize the projection error.\n",
    "- Reduce from n-deimension to k-dimension: Find $k$ vectors $\\mu^{(1)}, \\mu{(2)}, ..., \\mu^{(k)}$ onto which to project the data, so as to minimize zhe projection error.\n",
    "\n",
    "### PCA is not linear regression\n",
    "\n",
    "||PCA|linear regression|\n",
    "|:-------------:|:------------:|:-------------:|\n",
    "|write|write|write|"
   ]
  },
  {
   "cell_type": "markdown",
   "metadata": {},
   "source": [
    "## Principal Component Analysis Algorithm"
   ]
  },
  {
   "cell_type": "markdown",
   "metadata": {},
   "source": [
    "### Data preprocessiong\n",
    "\n",
    "Training set: $x^{(1)}, x^{(2)}, ..., x^{(m)}$<br>\n",
    "Preprocessiong(<u>feature scaling/mean normalization)</u>:<br>\n",
    "$\\mu_j = \\frac{1}{m}\\sum_{i=1}^mx_j^{(i)}$<br>\n",
    "Reduce each $x_j^{(i)}$ with $x_j - \\mu_j$<br>\n",
    "If different features on different scales (e.g., $x_1$ = size of house, $x_2$ = number of bedrooms), scale features to have comparable range of values.\n",
    "\n",
    "### Principal Component Analysis(PCA) algorithm\n",
    "Reduce data from $n$-dimensions to $k$-dimensions<br>\n",
    "Compute \"convariance matrix\":<br>\n",
    "$\\Sigma = \\frac{1}{m}\\sum_{i =1}^n(x^{(i)}(x^{(i)})^T)$<br>\n",
    "Compute \"eigenventors\" of matrix $\\Sigma$:<br>\n",
    "$[U, S, V] = svd(Sigma)$\n",
    "\n",
    "From $[U, S, V] = svd(Sigma)$, we get:<br>\n",
    "$U = \\begin{bmatrix}\n",
    "|&|&  &|\\\\\n",
    "u^{(1)}& u^{(2)}& ...& u^{(n)}\\\\\n",
    "|&|&  &|\n",
    "\\end{bmatrix} \\in \\mathbb{R}^{n \\times n}$\n",
    "\n",
    "### Principal Component Analysis(PCA) algorithm summary\n",
    "\n",
    "After mean normalization (ensure every feature has zero mean) and optionally feature scaling:<br>\n",
    "$Sigma = \\frac{1}{m}(x^{(i)})(x^{(i)})^T$<br>\n",
    "$[U, S, V] = svd(Sigma);$"
   ]
  },
  {
   "cell_type": "markdown",
   "metadata": {},
   "source": [
    "## Reconstruction from Compressed Representation"
   ]
  },
  {
   "cell_type": "markdown",
   "metadata": {},
   "source": [
    "## Choosing the Number of Principal Components"
   ]
  },
  {
   "cell_type": "markdown",
   "metadata": {},
   "source": [
    "### Choosing $k$ (number of principal components)\n",
    "\n",
    "Average squared projection error: $\\frac{1}{m}\\sum_{i=1}^m||x^{(i)} - x_{approx}^{(1)}||^2$<br>\n",
    "Total variation in the data: $\\frac{1}{m}\\sum_{i=1}^m||x^{(i)}||^2$\n",
    "\n",
    "Typically, choose $k$ to be smallest value so that<br>\n",
    "$\\frac{\\frac{1}{m}\\sum_{i=1}^m||x^{(i)}-x_{approx}^{(i)}||^2}{\\frac{1}{m}\\sum_{i=1}^m||x^{(i)}||^2} \\leq 0.01$ (1%)\n",
    "\n",
    "$\\rightarrow$ \"99% of variance is retained\"\n",
    "\n",
    "\n",
    "\n",
    "Algorithm:<br>\n",
    "Try PCA with $k = 1$<br>\n",
    "Compute $U_{reduce}, z^{(1)}, z^{(2)}, ..., z^{(m)}, x_{approx}^{(1)}, ..., x_{approx}^{(m)}$<br>\n",
    "Check if <br>\n",
    "$\\frac{\\frac{1}{m}\\sum_{i=1}^m||x^{(i)}-x_{approx}^{(i)}||^2}{\\frac{1}{m}\\sum_{i=1}^m||x^{(i)}||^2} \\leq 0.01$?\n",
    "\n",
    "$\\rightarrow$ [U, <u>S</u>, V] = svd(Sigma)<br>\n",
    "S = $\\begin{bmatrix}\n",
    "S_{11}&&&&&&0\\\\\n",
    "&S_{22}&&&&&\\\\\n",
    "&&S_{33}&&&&\\\\\n",
    "&&&&...&&\\\\\n",
    "0&&&&&&S_{nn}\n",
    "\\end{bmatrix}$\n",
    "\n",
    "For given $k$:<br>\n",
    "$1 - \\frac{\\sum_{i=1}^kS_{ii}}{\\sum_{i=1}-nS_{ii}} \\leq 0.01$<br>\n",
    "$\\rightarrow\\; \\frac{\\sum_{i=1}^kS_{ii}}{\\sum_{i=1}-nS_{ii}} \\geq 0.99$\n",
    "\n"
   ]
  },
  {
   "cell_type": "markdown",
   "metadata": {},
   "source": [
    "## Advice for Applying PCA"
   ]
  },
  {
   "cell_type": "markdown",
   "metadata": {},
   "source": [
    "### Supervises learning speedup\n",
    "\n",
    "$(x^{(1)}, y^{(1)}), (x^{(2)}, y^{(2)}), ..., (x^{(m)}, y^{(m)})$<br>\n",
    "Extract inpus:<br>\n",
    "Unlabeled dataset: <br>\n",
    "$x^{(1)}, x^{(2)}, ..., x^{(m)} \\in \\mathbb{R}^{10000}$<br>\n",
    "$\\downarrow \\; PCA$<br>\n",
    "$z^{(1)}, z^{(2)}, ..., z^{(m)} \\in \\mathbb{R}^{1000}$\n",
    "\n",
    "#### New training set:\n",
    "\n",
    "$(z^{(1)}, y^{(1)}), (z^{(2)}, y^{(2)}), ..., (z^{(m)}, y^{(m)})$<br>\n",
    "Note: Mapping $x^{(i)} \\rightarrow z^{(i)}$ should be defined by runnning PCA only on the training set. This mapping can be applied as well to the examples $x_{cv}^{(i)}$ and $x_{test}^{(i)}$ in the cros validation and test sets.\n",
    "\n",
    "\n",
    "### Application of PCA\n",
    "- Compression\n",
    "    - Reduce memory/disc needed to store data\n",
    "    - Speed up learning algorithm\n",
    "    \n",
    "- Visualization:\n",
    "k = 2 or 3\n",
    "\n",
    "### Bad use of PCA: To prevent overfitting\n",
    "\n",
    "Use $z^{(i)}$ instead of $x^{i}$ to reduce the number of features to $k < n$. <br>\n",
    "Thus, fewer features, less likely to overfit.\n",
    "\n",
    "This might work OK, but isn't a good way to address overfitting. Use regularization instead.<br>\n",
    "$min_\\theta \\frac{1}{2m}\\sum_{i=1}^m(h_\\theta(x^{(i)}) - y^{(i)})^2 + \\frac{\\lambda}{2m}\\sum_{j = 1}^n\\theta_j^2$\n",
    "\n",
    "\n",
    "### OCA is sometimes used where it shouldn't be\n",
    "\n",
    "Design of ML system:\n",
    "- Get training set $\\{ (x^{(1)}, y^{(1)}), (x^{(2)}, y^{(2)}), ..., (x^{(m)}, y^{(m)}) \\}$\n",
    "- Run PCA to reduce $x^{i}$ in dimension to get $z^{(i)}$\n",
    "- Train logistic regression on $\\{ (z^{(1)}, y^{(1)}), ... (z^{(m)}, y^{(m)}) \\}$\n",
    "- Test on test set: Map $x_{test}^{(i)}$ to $z_{test}^{(i)}$. Run $h_\\theta(z)$ on $\\{ (z_{test}^{(1)}, y_{test}^{(1)}), ..., (z_{test}^{(m)}, y_{test}^{(m)})\\}$\n",
    "    \n",
    "$\\rightarrow$ How about doing the whole thing without using PCA?<br>\n",
    "$\\rightarrow$ Before implementing PCA, first try running whatever you want to do with the original/raw data $x^{(i)}$. Only if that doesn't do what you want, then implement PCA and cosider using $z^{(i)}$.\n",
    "    \n"
   ]
  },
  {
   "cell_type": "markdown",
   "metadata": {},
   "source": [
    "## Test\n",
    "\n",
    "<u><b>Question1:</b></u><br>\n",
    "Consider the following 2D dataset:<br>\n",
    "\n",
    "[graph]\n",
    "\n",
    "Which of the following figures correspond to possible values that PCA may return for $u^{(1)}$ (the first eigenvector / first principal component)? Check all that apply (you may have to check more than one figure).\n",
    "\n",
    "\n",
    "<u><b>Question2:</b></u><br>\n",
    "Which of the following is a reasonable way to select the number of principal components $k$?\n",
    "\n",
    "(Recall that nn is the dimensionality of the input data and mm is the number of input examples.)\n",
    "\n",
    "- Choose $k$ to be the smallest value so that at least 99% of the variance is retained.\n",
    "- Choose the value of kk that minimizes the approximation error $\\frac{1}{m}\\sum_{i=1}^m||x^{(i)} - x_{approx}^{(1)}||^2$\n",
    "- Choose $k$ to be the smallest value so that at least 1% of the variance is retained.\n",
    "- Choose $k$ to be 99% of nn (i.e., $k = 0.99*n$, rounded to the nearest integer).\n",
    "\n",
    "<u><b>Question3:</b></u><br>\n",
    "Suppose someone tells you that they ran PCA in such a way that \"95% of the variance was retained.\" What is an equivalent statement to this?\n",
    "- $\\frac{\\frac{1}{m}\\sum_{i=1}^m||x^{(i)}-x_{approx}^{(i)}||^2}{\\frac{1}{m}\\sum_{i=1}^m||x^{(i)}||^2} \\leq 0.95$\n",
    "- $\\frac{\\frac{1}{m}\\sum_{i=1}^m||x^{(i)}-x_{approx}^{(i)}||^2}{\\frac{1}{m}\\sum_{i=1}^m||x^{(i)}||^2} \\leq 0.05$\n",
    "- $\\frac{\\frac{1}{m}\\sum_{i=1}^m||x^{(i)}-x_{approx}^{(i)}||^2}{\\frac{1}{m}\\sum_{i=1}^m||x^{(i)}||^2} \\geq 0.05$\n",
    "- $\\frac{\\frac{1}{m}\\sum_{i=1}^m||x^{(i)}-x_{approx}^{(i)}||^2}{\\frac{1}{m}\\sum_{i=1}^m||x^{(i)}||^2} \\geq 0.95$\n",
    "\n",
    "<u><b>Question4:</b></u><br>\n",
    "Which of the following statements are true? Check all that apply.\n",
    "- PCA is susceptible to local optima; trying multiple random initializations may help.\n",
    "- Given only $z^{(i)}$ and $U_{\\rm reduce}$, there is no way to reconstruct any reasonable approximation to $x^{(i)}$\n",
    "- Given input data $x \\in \\mathbb{R}^n$, it makes sense to run PCA only with values of $k$ that satisfy $k \\le n$. (In particular, running it with $k = n$ is possible but not helpful, and $k > n$ does not make sense.)\n",
    "- Even if all the input features are on very similar scales, we should still perform mean normalization (so that each feature has zero mean) before running PCA.\n",
    "\n",
    "<u><b>Question5:</b></u><br>\n",
    "Which of the following are recommended applications of PCA? Select all that apply.\n",
    "- Data compression: Reduce the dimension of your data, so that it takes up less memory / disk space.\n",
    "- Data visualization: To take 2D data, and find a different way of plotting it in 2D (using k=2).\n",
    "- As a replacement for (or alternative to) linear regression: For most learning applications, PCA and linear regression give substantially similar results.\n",
    "- Data compression: Reduce the dimension of your input data $x^{(i)}$, which will be used in a supervised learning algorithm (i.e., use PCA so that your supervised learning algorithm runs faster)."
   ]
  },
  {
   "cell_type": "code",
   "execution_count": null,
   "metadata": {},
   "outputs": [],
   "source": []
  },
  {
   "cell_type": "code",
   "execution_count": null,
   "metadata": {},
   "outputs": [],
   "source": []
  }
 ],
 "metadata": {
  "kernelspec": {
   "display_name": "Python 3",
   "language": "python",
   "name": "python3"
  },
  "language_info": {
   "codemirror_mode": {
    "name": "ipython",
    "version": 3
   },
   "file_extension": ".py",
   "mimetype": "text/x-python",
   "name": "python",
   "nbconvert_exporter": "python",
   "pygments_lexer": "ipython3",
   "version": "3.6.5"
  }
 },
 "nbformat": 4,
 "nbformat_minor": 2
}
