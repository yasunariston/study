{
 "cells": [
  {
   "cell_type": "markdown",
   "metadata": {},
   "source": [
    "<div style=\"text-align: center;\">\n",
    "<font size=\"4\">Coursera's 'machine learning'</font>\n",
    "</div>\n",
    "<br />\n",
    "<div style=\"text-align: right;\">\n",
    "<font size=\"4\">Yuma Kawabata</font>\n",
    "</div>"
   ]
  },
  {
   "cell_type": "markdown",
   "metadata": {},
   "source": [
    "<hr>\n",
    "<div style=\"text-align: center;\">\n",
    "<font size=\"4\">What is 'machine learning'?</font>\n",
    "</div>"
   ]
  },
  {
   "cell_type": "markdown",
   "metadata": {},
   "source": [
    "# 機械学習とは?\n",
    "- コンピュータに明示的にプログラムすることなく学習する能力を与える研究分野 (アーサー・サミュエル)\n",
    "- ある課題Tについて、 ある性能基準Pに基づき、もしTについての性能が基準Pで測定して、経験Eと共に改善している場合に、経験Eから学習したということが言える。 (トム・ミッチェル)"
   ]
  },
  {
   "cell_type": "markdown",
   "metadata": {},
   "source": [
    "<hr/>\n",
    "\n",
    "## task\n",
    "\n",
    "\"A computer program is said to learn from experience E with respect to some task T and some performance measure P, if its performance on T, as measured by P, improves with experience E.\"\n",
    "\n",
    "Suppose your email program watches which emails you do or do not mark as spam, and based on that learns how to better filter spam. What is the task T in this setting?\n",
    "\n",
    "- Classify emails as spam or not spam. <font color=\"red\">T</font>\n",
    "\n",
    "- Watching you label emails as spam or not spam. <font color=\"red\">E</font>\n",
    "- The number (or fraction) of emails correctly classified as spam/not spam. <font color=\"red\">P</font>\n",
    "\n",
    "- None of the above, this is not a machine learning algorithm."
   ]
  },
  {
   "cell_type": "markdown",
   "metadata": {},
   "source": [
    "## この講義で学ぶ主なこと\n",
    "- 学習アルゴリズム <br>\n",
    "-- 教師あり <br/>\n",
    "-- 教師なし\n",
    "\n",
    "- 学習アルゴリズムの現実問題への適用手法"
   ]
  },
  {
   "cell_type": "markdown",
   "metadata": {},
   "source": [
    "<hr>\n",
    "<div style=\"text-align: center;\">\n",
    "<font size=\"4\">Supervised Learnig</font>\n",
    "</div>"
   ]
  },
  {
   "cell_type": "markdown",
   "metadata": {},
   "source": [
    "# 教師あり学習"
   ]
  },
  {
   "cell_type": "markdown",
   "metadata": {},
   "source": [
    "## 特徴\n",
    "\n",
    "- 正しいデータが与えられていることが前提\n",
    "- 回帰問題(連続的な数値を予測する)\n",
    "- 分類問題(離散値を予測する) \n",
    "- 1つの特徴量だけでなく、複数(無限)の特徴を学習アルゴリズムに学習させる。 -> どうやって? -> SVM"
   ]
  },
  {
   "cell_type": "markdown",
   "metadata": {},
   "source": [
    "<hr/>\n",
    "## task\n",
    "You’re running a company, and you want to develop learning algorithms to address each of two problems.\n",
    "\n",
    "Problem 1:You have a large inventory of identical items. You want to predict how many of these items will sell over the next 3 months.\n",
    "Problem 2: You’d like software to examine individual customer accounts, and for each account decide if it has been hacked/compromised. \n",
    "\n",
    "Should you treat these as classification or as regression problems?\n",
    "\n",
    "- Treat both as classification problems.\n",
    "\n",
    "- Treat problem 1 as a classification problem, problem 2 as a regression problem.\n",
    "\n",
    "- Treat problem 1 as a regression problem, problem 2 as a classification problem. <font color=\"red\">Ans</font>\n",
    "\n",
    "- Treat both as regression problems."
   ]
  },
  {
   "cell_type": "markdown",
   "metadata": {},
   "source": [
    "<hr/>\n",
    "## wrap up"
   ]
  },
  {
   "cell_type": "markdown",
   "metadata": {},
   "source": [
    "Supervised Learning\n",
    "In supervised learning, we are given a data set and already know what our correct output should look like, having the idea that there is a relationship between the input and the output.\n",
    "\n",
    "Supervised learning problems are categorized into \"regression\" and \"classification\" problems. In a regression problem, we are trying to predict results within a continuous output, meaning that we are trying to map input variables to some continuous function. In a classification problem, we are instead trying to predict results in a discrete output. In other words, we are trying to map input variables into discrete categories.\n",
    "\n",
    "Example 1:\n",
    "\n",
    "Given data about the size of houses on the real estate market, try to predict their price. Price as a function of size is a continuous output, so this is a regression problem.\n",
    "\n",
    "We could turn this example into a classification problem by instead making our output about whether the house \"sells for more or less than the asking price.\" Here we are classifying the houses based on price into two discrete categories.\n",
    "\n",
    "Example 2:\n",
    "\n",
    "(a) Regression - Given a picture of a person, we have to predict their age on the basis of the given picture\n",
    "\n",
    "(b) Classification - Given a patient with a tumor, we have to predict whether the tumor is malignant or benign.\n",
    "\n"
   ]
  },
  {
   "cell_type": "markdown",
   "metadata": {},
   "source": [
    "<hr/>\n",
    "# 教師なし学習"
   ]
  },
  {
   "cell_type": "markdown",
   "metadata": {},
   "source": [
    "- ラベル付なしのデータセットのみ\n",
    "- ex.クラスタリング\n",
    "- グーグルのニュース分類\n",
    "- コンピュータクラスタの整理、ソーシャルネットワーク分類, 天文学データ解析,\n",
    "- カクテルパーティー"
   ]
  },
  {
   "cell_type": "markdown",
   "metadata": {},
   "source": [
    "## cocktail party problem algorithm"
   ]
  },
  {
   "cell_type": "markdown",
   "metadata": {},
   "source": [
    "[W, s, v] = svd((repmat(sum(s.*x, 1), size(x, 1), 1).*x)*x);"
   ]
  },
  {
   "cell_type": "markdown",
   "metadata": {},
   "source": [
    "- svd -> 線形代数"
   ]
  },
  {
   "cell_type": "markdown",
   "metadata": {},
   "source": [
    "<hr/>\n",
    "## task"
   ]
  },
  {
   "cell_type": "markdown",
   "metadata": {},
   "source": [
    "Of the following examples, which would you address using an unsupervised learning algorithm? (Check all that apply.)\n",
    "\n",
    "- Given email labeled as spam/not spam, learn a spam filter.\n",
    "\n",
    "- Given a set of news articles found on the web, group them into sets of articles about the same stories. <font color=\"Red\">Ans</font>\n",
    "\n",
    "- Given a database of customer data, automatically discover market segments and group customers into different market segments. <font color=\"Red\">Ans</font>\n",
    "\n",
    "- Given a dataset of patients diagnosed as either having diabetes or not, learn to classify new patients as having diabetes or not."
   ]
  },
  {
   "cell_type": "markdown",
   "metadata": {},
   "source": [
    "## test"
   ]
  },
  {
   "cell_type": "markdown",
   "metadata": {},
   "source": [
    "1。 質問1\n",
    "\n",
    "A computer program is said to learn from experience E with\n",
    "\n",
    "respect to some task T and some performance measure P if its\n",
    "\n",
    "performance on T, as measured by P, improves with experience E.\n",
    "\n",
    "Suppose we feed a learning algorithm a lot of historical weather\n",
    "\n",
    "data, and have it learn to predict weather. In this setting, what is T?\n",
    "\n",
    "\n",
    "None of these.\n",
    "\n",
    "\n",
    "The weather prediction task.\n",
    "\n",
    "\n",
    "The process of the algorithm examining a large amount of historical weather data.\n",
    "\n",
    "\n",
    "The probability of it correctly predicting a future date's weather.\n",
    "\n",
    "質問2\n",
    "1\n",
    "点数\n",
    "2。 質問2\n",
    "\n",
    "Suppose you are working on weather prediction, and your weather\n",
    "\n",
    "station makes one of three predictions for each day's weather:\n",
    "\n",
    "Sunny, Cloudy or Rainy. You'd like to use a learning algorithm\n",
    "\n",
    "to predict tomorrow's weather.\n",
    "\n",
    "Would you treat this as a classification or a regression problem?\n",
    "\n",
    "\n",
    "Classification\n",
    "\n",
    "\n",
    "Regression\n",
    "\n",
    "質問3\n",
    "1\n",
    "点数\n",
    "3。 質問3\n",
    "\n",
    "Suppose you are working on stock market prediction. You would like to predict whether or not a certain company will win a patent infringement lawsuit (by training on data of companies that had to defend against similar lawsuits). Would you treat this as a classification or a regression problem?\n",
    "\n",
    "\n",
    "Classification\n",
    "\n",
    "\n",
    "Regression\n",
    "\n",
    "質問4\n",
    "1\n",
    "点数\n",
    "4。 質問4\n",
    "\n",
    "Some of the problems below are best addressed using a supervised\n",
    "\n",
    "learning algorithm, and the others with an unsupervised\n",
    "\n",
    "learning algorithm. Which of the following would you apply\n",
    "\n",
    "supervised learning to? (Select all that apply.) In each case, assume some appropriate\n",
    "\n",
    "dataset is available for your algorithm to learn from.\n",
    "\n",
    "\n",
    "In farming, given data on crop yields over the last 50 years, learn to predict next year's crop yields.\n",
    "\n",
    "\n",
    "Given a large dataset of medical records from patients suffering from heart disease, try to learn whether there might be different clusters of such patients for which we might tailor separate treatments.\n",
    "\n",
    "\n",
    "Given data on how 1000 medical patients respond to an experimental drug (such as effectiveness of the treatment, side effects, etc.), discover whether there are different categories or \"types\" of patients in terms of how they respond to the drug, and if so what these categories are.\n",
    "\n",
    "\n",
    "Examine a web page, and classify whether the content on the web page should be considered \"child friendly\" (e.g., non-pornographic, etc.) or \"adult.\"\n",
    "\n",
    "質問5\n",
    "1\n",
    "点数\n",
    "5。 質問5\n",
    "\n",
    "Which of these is a reasonable definition of machine learning?\n",
    "\n",
    "\n",
    "Machine learning is the science of programming computers.\n",
    "\n",
    "\n",
    "Machine learning is the field of allowing robots to act intelligently.\n",
    "\n",
    "\n",
    "Machine learning learns from labeled data.\n",
    "\n",
    "\n",
    "Machine learning is the field of study that gives computers the ability to learn without being explicitly programmed."
   ]
  },
  {
   "cell_type": "markdown",
   "metadata": {},
   "source": [
    "<hr/>\n",
    "# 線形回帰"
   ]
  },
  {
   "cell_type": "markdown",
   "metadata": {},
   "source": [
    "<hr/>\n",
    "## 変数意味定義"
   ]
  },
  {
   "cell_type": "markdown",
   "metadata": {},
   "source": [
    "- m = 訓練サンプルの数\n",
    "- x = 入力変数\n",
    "- y = 目標変数\n",
    "- (x, y) = 1件の訓練サンプル\n",
    "- (x[i], y[i]) = i番目の訓練サンプル\n",
    "- h = 関数の出力 (hyplosis)"
   ]
  },
  {
   "cell_type": "markdown",
   "metadata": {},
   "source": [
    "h maps from x's to y <br/>\n",
    "x -> h = f(x) -> y<br/>\n",
    "h(x) =　θ0 + θ1x"
   ]
  },
  {
   "cell_type": "markdown",
   "metadata": {},
   "source": [
    "<hr/>\n",
    "## 損失関数 (cost function)"
   ]
  },
  {
   "cell_type": "markdown",
   "metadata": {},
   "source": [
    "minimize 1/2m∑(he(x[i]) - y[i])^2 <br/>\n",
    " θ0, θ1"
   ]
  },
  {
   "cell_type": "markdown",
   "metadata": {},
   "source": [
    "- 等高線図 ->可視化して最小値を求める"
   ]
  },
  {
   "cell_type": "markdown",
   "metadata": {},
   "source": [
    "<hr/>\n",
    "## 最急降下法"
   ]
  },
  {
   "cell_type": "markdown",
   "metadata": {},
   "source": [
    "- ある地点から見て、最も減少値が多い地点に行く。\n",
    "- 始める場所によって、最小値ではない極小値に向かうこともある\n",
    "- 極小値に向かうごとに更新の幅が小さくなっていく <br>\n",
    "≒ 学習率を更新する必要がない"
   ]
  },
  {
   "cell_type": "markdown",
   "metadata": {},
   "source": [
    "## 学習率"
   ]
  },
  {
   "cell_type": "markdown",
   "metadata": {},
   "source": [
    "学習率 -> α\n",
    "- αが小さい -> 学習に時間がかかる\n",
    "- αが大きい -> 最急降下法の度、値が増加する。"
   ]
  },
  {
   "cell_type": "markdown",
   "metadata": {},
   "source": [
    "## 線形回帰における最急降下法\n"
   ]
  },
  {
   "cell_type": "markdown",
   "metadata": {},
   "source": [
    "- 線形回帰において、損失関数は常に凸関数である<br>\n",
    "≒ 最適解に常にたどり着く<br>\n",
    "≒ 局所最適解にハマる危険はない"
   ]
  },
  {
   "cell_type": "markdown",
   "metadata": {},
   "source": [
    "<hr>\n",
    "## test\n"
   ]
  },
  {
   "cell_type": "markdown",
   "metadata": {},
   "source": [
    "1。 質問1\n",
    "Consider the problem of predicting how well a student does in her second year of college/university, given how well she did in her first year.\n",
    "\n",
    "Specifically, let x be equal to the number of \"A\" grades (including A-. A and A+ grades) that a student receives in their first year of college (freshmen year). We would like to predict the value of y, which we define as the number of \"A\" grades they get in their second year (sophomore year).\n",
    "\n",
    "Refer to the following training set of a small sample of different students' performances (note that this training set may also be referenced in other questions in this quiz). Here each row is one training example. Recall that in linear regression, our hypothesis is h_\\theta(x) = \\theta_0 + \\theta_1xh \n",
    "θ\n",
    "​\t (x)=θ \n",
    "0\n",
    "​\t +θ \n",
    "1\n",
    "​\t x, and we use mm to denote the number of training examples.\n",
    "\n",
    "\n",
    "For the training set given above, what is the value of mm? In the box below, please enter your answer (which should be a number between 0 and 10).\n",
    "\n",
    "\n",
    "Enter answer here\n",
    "質問2\n",
    "1\n",
    "点数\n",
    "2。 質問2\n",
    "Consider the following training set of m=4m=4 training examples:\n",
    "\n",
    "   x   \t   y   \n",
    "   1   \t   0.5   \n",
    "   2   \t   1   \n",
    "   4   \t   2   \n",
    "   0   \t   0   \n",
    "Consider the linear regression model h_\\theta(x) = \\theta_0 + \\theta_1xh \n",
    "θ\n",
    "​\t (x)=θ \n",
    "0\n",
    "​\t +θ \n",
    "1\n",
    "​\t x. What are the values of \\theta_0θ \n",
    "0\n",
    "​\t  and \\theta_1θ \n",
    "1\n",
    "​\t that you would expect to obtain upon running gradient descent on this model? (Linear regression will be able to fit this data perfectly.)\n",
    "\n",
    "\n",
    "\\theta_0 = 1, \\theta_1 = 0.5θ \n",
    "0\n",
    "​\t =1,θ \n",
    "1\n",
    "​\t =0.5\n",
    "\n",
    "\n",
    "\\theta_0 = 1, \\theta_1 = 1θ \n",
    "0\n",
    "​\t =1,θ \n",
    "1\n",
    "​\t =1\n",
    "\n",
    "\n",
    "\\theta_0 = 0.5, \\theta_1 = 0.5θ \n",
    "0\n",
    "​\t =0.5,θ \n",
    "1\n",
    "​\t =0.5\n",
    "\n",
    "\n",
    "\\theta_0 = 0.5, \\theta_1 = 0θ \n",
    "0\n",
    "​\t =0.5,θ \n",
    "1\n",
    "​\t =0\n",
    "\n",
    "\n",
    "\\theta_0 = 0 , \\theta_1 = 0.5θ \n",
    "0\n",
    "​\t =0,θ \n",
    "1\n",
    "​\t =0.5\n",
    "\n",
    "1\n",
    "点数\n",
    "3。 質問3\n",
    "Suppose we set \\theta_0 = -2, \\theta_1 = 0.5θ \n",
    "0\n",
    "​\t =−2,θ \n",
    "1\n",
    "​\t =0.5 in the linear regression hypothesis from Q1. What is h_{\\theta}(6)h \n",
    "θ\n",
    "​\t (6)?\n",
    "\n",
    "\n",
    "Enter answer here\n",
    "質問4\n",
    "1\n",
    "点数\n",
    "4。 質問4\n",
    "Let ff be some function so that\n",
    "\n",
    "f(\\theta_0, \\theta_1)f(θ \n",
    "0\n",
    "​\t ,θ \n",
    "1\n",
    "​\t ) outputs a number. For this problem,\n",
    "\n",
    "ff is some arbitrary/unknown smooth function (not necessarily the\n",
    "\n",
    "cost function of linear regression, so ff may have local optima).\n",
    "\n",
    "Suppose we use gradient descent to try to minimize f(\\theta_0, \\theta_1)f(θ \n",
    "0\n",
    "​\t ,θ \n",
    "1\n",
    "​\t )\n",
    "\n",
    "as a function of \\theta_0θ \n",
    "0\n",
    "​\t  and \\theta_1θ \n",
    "1\n",
    "​\t . Which of the\n",
    "\n",
    "following statements are true? (Check all that apply.)\n",
    "\n",
    "\n",
    "If \\theta_0θ \n",
    "0\n",
    "​\t  and \\theta_1θ \n",
    "1\n",
    "​\t  are initialized at\n",
    "\n",
    "a local minimum, then one iteration will not change their values.\n",
    "\n",
    "\n",
    "Even if the learning rate \\alphaα is very large, every iteration of\n",
    "\n",
    "gradient descent will decrease the value of f(\\theta_0, \\theta_1)f(θ \n",
    "0\n",
    "​\t ,θ \n",
    "1\n",
    "​\t ).\n",
    "\n",
    "\n",
    "If the learning rate is too small, then gradient descent may take a very long\n",
    "\n",
    "time to converge.\n",
    "\n",
    "\n",
    "If \\theta_0θ \n",
    "0\n",
    "​\t  and \\theta_1θ \n",
    "1\n",
    "​\t  are initialized so that \\theta_0 = \\theta_1θ \n",
    "0\n",
    "​\t =θ \n",
    "1\n",
    "​\t , then by symmetry (because we do simultaneous updates to the two parameters), after one iteration of gradient descent, we will still have \\theta_0 = \\theta_1θ \n",
    "0\n",
    "​\t =θ \n",
    "1\n",
    "​\t .\n",
    "\n",
    "質問5\n",
    "1\n",
    "点数\n",
    "5。 質問5\n",
    "Suppose that for some linear regression problem (say, predicting housing prices as in the lecture), we have some training set, and for our training set we managed to find some \\theta_0θ \n",
    "0\n",
    "​\t , \\theta_1θ \n",
    "1\n",
    "​\t such that J(\\theta_0, \\theta_1)=0J(θ \n",
    "0\n",
    "​\t ,θ \n",
    "1\n",
    "​\t )=0.\n",
    "\n",
    "Which of the statements below must then be true? (Check all that apply.)\n",
    "\n",
    "\n",
    "Our training set can be fit perfectly by a straight line,\n",
    "\n",
    "i.e., all of our training examples lie perfectly on some straight line.\n",
    "\n",
    "\n",
    "For this to be true, we must have \\theta_0 = 0θ \n",
    "0\n",
    "​\t =0 and \\theta_1 = 0θ \n",
    "1\n",
    "​\t =0\n",
    "\n",
    "so that h_\\theta(x) = 0h \n",
    "θ\n",
    "​\t (x)=0\n",
    "\n",
    "\n",
    "For this to be true, we must have y^{(i)} = 0y \n",
    "(i)\n",
    " =0 for every value of i = 1, 2, \\ldots, mi=1,2,…,m.\n",
    "\n",
    "\n",
    "Gradient descent is likely to get stuck at a local minimum and fail to find the global minimum."
   ]
  },
  {
   "cell_type": "markdown",
   "metadata": {},
   "source": [
    "<hr>\n",
    "# Matrices and Vectors"
   ]
  },
  {
   "cell_type": "markdown",
   "metadata": {},
   "source": [
    "$\n",
    "\\begin{bmatrix}\n",
    "a & b \\\\\n",
    "c & d \n",
    "\\end{bmatrix}\n",
    "$"
   ]
  },
  {
   "cell_type": "markdown",
   "metadata": {},
   "source": [
    "Matricces -> row element * column element<br>\n",
    "Vector -> row element1 * 1<br>\n",
    "Scalar -> 1 * 1"
   ]
  },
  {
   "cell_type": "markdown",
   "metadata": {},
   "source": [
    "- 1-indexed vs 0-indexed<br>\n",
    "-> in machine learinng, win 1-indexed"
   ]
  },
  {
   "cell_type": "markdown",
   "metadata": {},
   "source": [
    "$\n",
    "\\begin{bmatrix}\n",
    "a & b & c\\\\\n",
    "d & e & f\\\\\n",
    "g & h & i\n",
    "\\end{bmatrix}\n",
    "\\begin{bmatrix}\n",
    "1\\\\\n",
    "2\\\\\n",
    "3\n",
    "\\end{bmatrix}\n",
    "$"
   ]
  },
  {
   "cell_type": "markdown",
   "metadata": {},
   "source": []
  }
 ],
 "metadata": {
  "kernelspec": {
   "display_name": "Python 3",
   "language": "python",
   "name": "python3"
  },
  "language_info": {
   "codemirror_mode": {
    "name": "ipython",
    "version": 3
   },
   "file_extension": ".py",
   "mimetype": "text/x-python",
   "name": "python",
   "nbconvert_exporter": "python",
   "pygments_lexer": "ipython3",
   "version": "3.6.5"
  }
 },
 "nbformat": 4,
 "nbformat_minor": 2
}
